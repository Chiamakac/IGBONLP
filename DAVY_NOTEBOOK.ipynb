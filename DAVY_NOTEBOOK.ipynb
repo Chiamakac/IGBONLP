{
  "nbformat": 4,
  "nbformat_minor": 0,
  "metadata": {
    "colab": {
      "provenance": [],
      "include_colab_link": true
    },
    "kernelspec": {
      "name": "python3",
      "display_name": "Python 3"
    },
    "language_info": {
      "name": "python"
    }
  },
  "cells": [
    {
      "cell_type": "markdown",
      "metadata": {
        "id": "view-in-github",
        "colab_type": "text"
      },
      "source": [
        "<a href=\"https://colab.research.google.com/github/Chiamakac/IGBONLP/blob/master/DAVY_NOTEBOOK.ipynb\" target=\"_parent\"><img src=\"https://colab.research.google.com/assets/colab-badge.svg\" alt=\"Open In Colab\"/></a>"
      ]
    },
    {
      "cell_type": "markdown",
      "source": [
        "**Build the `chemical_list`**"
      ],
      "metadata": {
        "id": "V2DLQp0EP-dQ"
      }
    },
    {
      "cell_type": "code",
      "source": [
        "import os\n",
        "import pandas as pd\n",
        "import json"
      ],
      "metadata": {
        "id": "Oabo-4mYQPN4"
      },
      "execution_count": null,
      "outputs": []
    },
    {
      "cell_type": "code",
      "source": [
        "from google.colab import drive\n",
        "drive.mount('/content/drive', force_remount=True)"
      ],
      "metadata": {
        "colab": {
          "base_uri": "https://localhost:8080/"
        },
        "id": "RdR2McODhWk3",
        "outputId": "003e9ea2-9bdc-4986-c2ff-0cd77dbea1b6"
      },
      "execution_count": 31,
      "outputs": [
        {
          "output_type": "stream",
          "name": "stdout",
          "text": [
            "Mounted at /content/drive\n"
          ]
        }
      ]
    },
    {
      "cell_type": "code",
      "source": [
        "cd 'drive/MyDrive/DAVY_NOTEBOOK'"
      ],
      "metadata": {
        "colab": {
          "base_uri": "https://localhost:8080/"
        },
        "id": "auE7LfGwwa_9",
        "outputId": "d2b0a233-155d-4eae-ccf1-1724f67ffded"
      },
      "execution_count": 40,
      "outputs": [
        {
          "output_type": "stream",
          "name": "stdout",
          "text": [
            "/content/drive/MyDrive/DAVY_NOTEBOOK\n"
          ]
        }
      ]
    },
    {
      "cell_type": "code",
      "source": [
        "def chem_tagger(text_str, chem_list):\n",
        "  for i in range(len(chem_list)):\n",
        "    chem_id, chem = chem_list.iloc[i]\n",
        "    text_str = text_str.replace(f\" {chem} \", f\" [chemical]{chem_id}|{chem}[/chemical] \")\n",
        "  return text_str"
      ],
      "metadata": {
        "id": "FvNPm2RLlm9a"
      },
      "execution_count": 41,
      "outputs": []
    },
    {
      "cell_type": "code",
      "source": [
        "#Read chemical v3.xlsx file\n",
        "chemical_pd = pd.read_excel('chemical v3.xlsx', header=0)[['id', 'chemical']]\n",
        "# chemical_pd"
      ],
      "metadata": {
        "id": "qskDBMRtQPJq"
      },
      "execution_count": 42,
      "outputs": []
    },
    {
      "cell_type": "markdown",
      "source": [
        "**Read the json file**"
      ],
      "metadata": {
        "id": "po0xJJAzUsX8"
      }
    },
    {
      "cell_type": "markdown",
      "source": [
        "Tagging"
      ],
      "metadata": {
        "id": "2zPmkKuqluVK"
      }
    },
    {
      "cell_type": "code",
      "source": [
        "transcription_folders  = [filename for filename in os.listdir() \n",
        "                                      if filename.startswith('transcription_')]\n",
        "# transcription_folders"
      ],
      "metadata": {
        "id": "JGDaM_A6lf_-"
      },
      "execution_count": 45,
      "outputs": []
    },
    {
      "cell_type": "markdown",
      "source": [
        "This is what you need to tag and save the files."
      ],
      "metadata": {
        "id": "Gh78FkLPJvnc"
      }
    },
    {
      "cell_type": "code",
      "source": [
        "for folder in transcription_folders:\n",
        "  raw_data_file = [os.path.join(folder, f) for f in os.listdir(folder) if f.startswith('raw_data')][0]\n",
        "  with open(raw_data_file, 'r') as infile:\n",
        "    infile_data = json.load(infile)\n",
        "  for i in range(len(infile_data['frame0'])):\n",
        "    consensus_text = infile_data['frame0'][i]['consensus_text'].lower()\n",
        "    # print(f\"{consensus_text}\\n\\t--{chem_tagger(consensus_text, chemical_pd)}\")\n",
        "    infile_data['frame0'][i]['edited_consensus_text'] = chem_tagger(consensus_text, chemical_pd)\n",
        "\n",
        "    # save the modified 'infile_data' in the current folder: 'folder/raw_data_file' \n",
        "    with open(f\"{raw_data_file[:-5]}_chem_tagged.json\", \"w\") as fp:\n",
        "        json.dump(infile_data , fp)     "
      ],
      "metadata": {
        "id": "gilBILaeaez9"
      },
      "execution_count": 46,
      "outputs": []
    },
    {
      "cell_type": "code",
      "source": [
        "raw_data_file = '/content/drive/MyDrive/DAVY_NOTEBOOK/transcription_62765296/raw_data_62765296_chem_tagged.json'\n",
        "with open(raw_data_file, 'r') as infile:\n",
        "  infile_data = json.load(infile)"
      ],
      "metadata": {
        "id": "oVWPs3ZaAwzt"
      },
      "execution_count": 56,
      "outputs": []
    },
    {
      "cell_type": "code",
      "source": [],
      "metadata": {
        "id": "xB2BhSGVKWr3"
      },
      "execution_count": null,
      "outputs": []
    },
    {
      "cell_type": "code",
      "source": [
        "for i in range(len(infile_data['frame0'])):\n",
        "  print(infile_data['frame0'][]['edited_consensus_text'])"
      ],
      "metadata": {
        "colab": {
          "base_uri": "https://localhost:8080/"
        },
        "id": "jcblettWBLbx",
        "outputId": "3a6762ce-1fb3-4dc6-d0d9-a0c3dc86fc96"
      },
      "execution_count": 61,
      "outputs": [
        {
          "output_type": "stream",
          "name": "stdout",
          "text": [
            "/ [deletion]soda formed [unclear]or[/unclear] [/deletion]\n",
            "/ [deletion]soda formed [unclear]or[/unclear] [/deletion]\n",
            "/ [deletion]soda formed [unclear]or[/unclear] [/deletion]\n",
            "/ [deletion]soda formed [unclear]or[/unclear] [/deletion]\n",
            "/ [deletion]soda formed [unclear]or[/unclear] [/deletion]\n",
            "/ [deletion]soda formed [unclear]or[/unclear] [/deletion]\n",
            "/ [deletion]soda formed [unclear]or[/unclear] [/deletion]\n",
            "/ [deletion]soda formed [unclear]or[/unclear] [/deletion]\n",
            "/ [deletion]soda formed [unclear]or[/unclear] [/deletion]\n",
            "/ [deletion]soda formed [unclear]or[/unclear] [/deletion]\n",
            "/ [deletion]soda formed [unclear]or[/unclear] [/deletion]\n",
            "/ [deletion]soda formed [unclear]or[/unclear] [/deletion]\n",
            "/ [deletion]soda formed [unclear]or[/unclear] [/deletion]\n",
            "/ [deletion]soda formed [unclear]or[/unclear] [/deletion]\n",
            "/ [deletion]soda formed [unclear]or[/unclear] [/deletion]\n",
            "/ [deletion]soda formed [unclear]or[/unclear] [/deletion]\n",
            "/ [deletion]soda formed [unclear]or[/unclear] [/deletion]\n",
            "/ [deletion]soda formed [unclear]or[/unclear] [/deletion]\n",
            "/ [deletion]soda formed [unclear]or[/unclear] [/deletion]\n",
            "/ [deletion]soda formed [unclear]or[/unclear] [/deletion]\n",
            "/ [deletion]soda formed [unclear]or[/unclear] [/deletion]\n",
            "/ [deletion]soda formed [unclear]or[/unclear] [/deletion]\n",
            "/ [deletion]soda formed [unclear]or[/unclear] [/deletion]\n",
            "/ [deletion]soda formed [unclear]or[/unclear] [/deletion]\n",
            "/ [deletion]soda formed [unclear]or[/unclear] [/deletion]\n"
          ]
        }
      ]
    }
  ]
}