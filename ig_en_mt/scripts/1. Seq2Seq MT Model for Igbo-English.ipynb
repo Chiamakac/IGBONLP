{
  "nbformat": 4,
  "nbformat_minor": 0,
  "metadata": {
    "kernelspec": {
      "display_name": "Python 3",
      "language": "python",
      "name": "python3"
    },
    "language_info": {
      "codemirror_mode": {
        "name": "ipython",
        "version": 3
      },
      "file_extension": ".py",
      "mimetype": "text/x-python",
      "name": "python",
      "nbconvert_exporter": "python",
      "pygments_lexer": "ipython3",
      "version": "3.7.4"
    },
    "colab": {
      "name": "1. Seq2Seq MT Model for Igbo-English.ipynb",
      "provenance": [],
      "toc_visible": true,
      "include_colab_link": true
    },
    "accelerator": "GPU"
  },
  "cells": [
    {
      "cell_type": "markdown",
      "metadata": {
        "id": "view-in-github",
        "colab_type": "text"
      },
      "source": [
        "<a href=\"https://colab.research.google.com/github/IgnatiusEzeani/IGBONLP/blob/master/ig_en_mt/scripts/1.%20Seq2Seq%20MT%20Model%20for%20Igbo-English.ipynb\" target=\"_parent\"><img src=\"https://colab.research.google.com/assets/colab-badge.svg\" alt=\"Open In Colab\"/></a>"
      ]
    },
    {
      "cell_type": "markdown",
      "metadata": {
        "id": "KrNB5PrA39Xm",
        "colab_type": "text"
      },
      "source": [
        "# Seq2Seq MT Model for Igbo-English\n",
        "\n",
        "In this work, we discuss our effort toward building a standard evaluation benchmark dataset for Igbo-English machine translation tasks.\n",
        "\n",
        "## Table of Content\n",
        "\n",
        "<!-- [TOC] -->\n",
        "<div class=\"toc\">\n",
        "<ol>\n",
        "<li><a href=\"#introduction\">Introduction</a></li>\n",
        "<li><a href=\"#evaldataset\">Evaluation Dataset</a></li>\n",
        "<li><a href=\"#buildingModel\">Building the Igbo-English Translation Model</a>\n",
        "<li><a href=\"#seq2seqModel\">Overview of the Seq2Seq Model</a></li> \n",
        "<li><a href=\"#dataprep\">Data Preparation</a></li>\n",
        "\n",
        "<li><a href=\"#acknowledgement\">Acknowledgement</a></li>\n",
        "</ol>\n",
        "</div>\n",
        "\n",
        "<a id=\"introduction\"></a>\n",
        "## Introduction\n",
        "\n",
        "[Igbo language](https://en.wikipedia.org/wiki/Igbo_language) is one of the 3 major Nigerian languages spoken by approximately 50 million people globally, 70% of whom are in southeastern Nigeria. It is low-resourced in terms of natural language processing. IGBONLP despite some efforts toward developing IgboNLP such as part-of-speech tagging: [Onyenwe et al. (2014)](http://eprints.whiterose.ac.uk/117817/1/W14-4914.pdf), [Onyenwe et al. (2019)](https://www.researchgate.net/publication/333333916_Toward_an_Effective_Igbo_Part-of-Speech_Tagger); and diacritic restoration: [Ezeani et al. (2016)](http://eprints.whiterose.ac.uk/117833/1/TSD_2016_Ezeani.pdf), [Ezeani et al. (2018)](https://www.aclweb.org/anthology/N18-4008).\n",
        "\n",
        "Although there are existing sources for collecting Igbo monolingual and parallel data, such as the [OPUS Project (Tiedemann, 2012)](http://opus.nlpl.eu/) or the [JW.ORG](https://www.jw.org/ig), they have certain limitations. The OPUS Project is a good source training data but, given that there are no human validations, may not be good as an evaluation benchmark. JW.ORG contents, on the other hand, are human generated and of good quality but the genre is often skewed to religiouscontexts and therefore may not be good for building a generalisable model.\n",
        "\n",
        "This project focuses on creating and publicly releasing a standard evaluation benchmark dataset for Igbo-English machine translation research for the NLP research community. This project aims to build, maintain and publicly share a standard benchmark dataset for Igbo-English machine translation research.\n",
        "\n",
        "<a id=\"evaldataset\"></a>\n",
        "## Evaluation Dataset\n",
        "The evaluation dataset was created using the approach laid out in the paper: [Igbo-English Machine Translation: An Evaluation Benchmark](https://eprints.lancs.ac.uk/id/eprint/143011/1/2004.00648.pdf).\n",
        "\n",
        "There are three key objectives:\n",
        "1. Create a minimum of 10,000 English-Igbo human-level quality sentence pairs mostly from the news domain\n",
        "2. To assemble and clean a minimum of 100,000 monolingual Igbo sentences, mostly from the news domain, as companion monolingual data for training MT models\n",
        "3. To release the dataset to the research community as well as present it at a conference and publish a journal paper that details the processes involved.\n",
        "\n",
        "Al available data can be accessed from [IGBONLP GitHub Repo](https://github.com/IgnatiusEzeani/IGBONLP/tree/master/ig_en_mt).\n",
        "\n",
        "<a id=\"buildingModel\"></a>\n",
        "## Building the Igbo-English Translation Model\n",
        "\n",
        "With this Jupyter notebook, we present a simple usage demo of the evaluation benchmark dataset which was reported in the [paper](https://eprints.lancs.ac.uk/id/eprint/143011/1/2004.00648.pdf). We will also be building a machine learning model for Igbo-English machine translation, using [PyTorch](https://pytorch.org/) and [TorchText](https://pytorch.org/text/index.html). \n",
        "\n",
        "<a id=\"seq2seqModel\"></a>\n",
        "### Overview of the Seq2Seq Model\n",
        "We will build a *Sequence-to-Sequence* (Seq2Seq) model based on the method described in the paper [Sequence to Sequence Learning with Neural Networks by Sutskever et al](https://arxiv.org/abs/1409.3215). This requires building an *encoder-decoder* model that uses a *recurrent neural network* (RNN) to *encode* the source (input) sentence into a single vector, *context vector*. This vector will then be passed to another RNN to be *decoded* i.e. to learn to output the target (output) sentence by generating it one word at a time. We will be using the [Long Short Term Memory (LSTM)](https://en.wikipedia.org/wiki/Long_short-term_memory), a variant of RNN, in this demo.\n",
        "\n",
        "<a id=\"dataprep\"></a>\n",
        "### Data Preparation\n",
        "The models will be coded in PyTorch while the data pre-processing and preparation will be done using TorchText. We will assume that these required modules have been installed: `torch`, `torchtext`, `numpy`"
      ]
    },
    {
      "cell_type": "code",
      "metadata": {
        "id": "hLrncMEM4VFa",
        "colab_type": "code",
        "colab": {
          "base_uri": "https://localhost:8080/",
          "height": 141
        },
        "outputId": "7bae71ee-3e36-4dbf-f216-4fa1cbbc545c"
      },
      "source": [
        "!git clone https://github.com/IgnatiusEzeani/IGBONLP.git"
      ],
      "execution_count": 1,
      "outputs": [
        {
          "output_type": "stream",
          "text": [
            "Cloning into 'IGBONLP'...\n",
            "remote: Enumerating objects: 163, done.\u001b[K\n",
            "remote: Counting objects: 100% (163/163), done.\u001b[K\n",
            "remote: Compressing objects: 100% (127/127), done.\u001b[K\n",
            "remote: Total 341 (delta 81), reused 98 (delta 35), pack-reused 178\u001b[K\n",
            "Receiving objects: 100% (341/341), 94.89 MiB | 35.14 MiB/s, done.\n",
            "Resolving deltas: 100% (161/161), done.\n"
          ],
          "name": "stdout"
        }
      ]
    },
    {
      "cell_type": "markdown",
      "metadata": {
        "id": "-iIhnfqG4ivH",
        "colab_type": "text"
      },
      "source": [
        "Let's start by making the basic imports"
      ]
    },
    {
      "cell_type": "code",
      "metadata": {
        "id": "BJVInRii39Xo",
        "colab_type": "code",
        "colab": {}
      },
      "source": [
        "import torch\n",
        "import torch.nn as nn\n",
        "import torch.optim as optim\n",
        "\n",
        "from torchtext.datasets import TranslationDataset\n",
        "from torchtext.data import Field, BucketIterator\n",
        "\n",
        "import os\n",
        "import numpy as np\n",
        "\n",
        "import random\n",
        "import math\n",
        "import time"
      ],
      "execution_count": 0,
      "outputs": []
    },
    {
      "cell_type": "markdown",
      "metadata": {
        "id": "fGAJaOlA39X1",
        "colab_type": "text"
      },
      "source": [
        "We need a `tokenizer` for both languages. Here we are using a very basic one that splits the text on spaces. This is basically because the dataset has been presented in that format. Ideally, it may be necessary to use a more tailored tokenizer depending on the language and/or the task. But this will do for now.\n",
        "\n",
        "We will then use TorchText's [Field](https://pytorch.org/text/_modules/torchtext/data/field.html) (see implemetation [here]((https://github.com/pytorch/text/blob/master/torchtext/data/field.py#L61)) class to define the structure of the data. The `tokenize` argument is set to the tokenization function for both languages. The `Field` appends the \"start of sequence\" (`init_token`) and \"end of sequence\" (`eos_token`). All words are converted to lowercase."
      ]
    },
    {
      "cell_type": "code",
      "metadata": {
        "id": "OPov500q39X3",
        "colab_type": "code",
        "colab": {}
      },
      "source": [
        "def tokenize(text):\n",
        "    return [token for token in text.split()]\n",
        "\n",
        "SRC = Field(tokenize = tokenize, init_token = '<sos>', eos_token = '<eos>',\n",
        "            lower = True)\n",
        "TRG = Field(tokenize = tokenize, init_token = '<sos>', eos_token = '<eos>',\n",
        "            lower = True)"
      ],
      "execution_count": 0,
      "outputs": []
    },
    {
      "cell_type": "markdown",
      "metadata": {
        "id": "oFMGP7wl39X_",
        "colab_type": "text"
      },
      "source": [
        "We then load the evaluation data from our [dataset](https://github.com/IgnatiusEzeani/IGBONLP/tree/master/ig_en_mt/ig_parallel). So far it contains approximately ~12,000 parallel Igbo and English sentences.\n",
        "\n",
        "We split the dataset into *train*, *validate* and *test* sets by specifying the source and target extensions (`exts`) and using the `Field` objects create above. The `exts` indicates the languages to use as the *source* and *target* (source first) and `fields` specifies which field to use for the source and target."
      ]
    },
    {
      "cell_type": "code",
      "metadata": {
        "id": "tLSUNc-S6Q5e",
        "colab_type": "code",
        "colab": {
          "base_uri": "https://localhost:8080/",
          "height": 34
        },
        "outputId": "cabf122e-4244-4143-a9e8-c648f9575cd6"
      },
      "source": [
        "cd IGBONLP/ig_en_mt/scripts/"
      ],
      "execution_count": 4,
      "outputs": [
        {
          "output_type": "stream",
          "text": [
            "/content/IGBONLP/ig_en_mt/scripts\n"
          ],
          "name": "stdout"
        }
      ]
    },
    {
      "cell_type": "code",
      "metadata": {
        "id": "DQNabUdn39YC",
        "colab_type": "code",
        "colab": {}
      },
      "source": [
        "fields, exts = (SRC,TRG), ('.ig','.en')\n",
        "train_data, validate_data, test_data = TranslationDataset.splits(fields=fields, exts=exts,\n",
        "                        path=os.path.join('./..','data'),\n",
        "                        train='train', validation='val', test='test')"
      ],
      "execution_count": 0,
      "outputs": []
    },
    {
      "cell_type": "markdown",
      "metadata": {
        "id": "DkipY1mh39YM",
        "colab_type": "text"
      },
      "source": [
        "To be sure that we loaded the data correctly, we can check whether the number of example we have for each split corresponds with what we expect."
      ]
    },
    {
      "cell_type": "code",
      "metadata": {
        "id": "FME3TZT539YR",
        "colab_type": "code",
        "colab": {
          "base_uri": "https://localhost:8080/",
          "height": 70
        },
        "outputId": "dc6cc4d1-5326-41a0-da04-72e99d3d0107"
      },
      "source": [
        "print(f\"{'Training examples':>20s}: {len(train_data.examples)}\")\n",
        "print(f\"{'Validation examples':>20s}: {len(validate_data.examples)}\")\n",
        "print(f\"{'Testing examples':>20s}: {len(test_data.examples)}\")"
      ],
      "execution_count": 6,
      "outputs": [
        {
          "output_type": "stream",
          "text": [
            "   Training examples: 9928\n",
            " Validation examples: 549\n",
            "    Testing examples: 542\n"
          ],
          "name": "stdout"
        }
      ]
    },
    {
      "cell_type": "markdown",
      "metadata": {
        "id": "nUqoVwsr39YX",
        "colab_type": "text"
      },
      "source": [
        "We can also confirm that the language pairs are correctly loaded i.e. the correct *source* and *target* in their positions"
      ]
    },
    {
      "cell_type": "code",
      "metadata": {
        "id": "lRlchecW39Yb",
        "colab_type": "code",
        "colab": {
          "base_uri": "https://localhost:8080/",
          "height": 125
        },
        "outputId": "33cbbbd6-d894-4239-a21f-7fe903101574"
      },
      "source": [
        "example0 = vars(train_data.examples[0])\n",
        "example5 = vars(train_data.examples[5])\n",
        "print(f\"Example 0:\\n{example0}\\n\\nExample 5:\\n{example5}\")"
      ],
      "execution_count": 7,
      "outputs": [
        {
          "output_type": "stream",
          "text": [
            "Example 0:\n",
            "{'src': ['akụkọ', 'ndị', 'ga-amasị', 'gị:'], 'trg': ['the', 'news', 'that', 'will', 'interest', 'you:']}\n",
            "\n",
            "Example 5:\n",
            "{'src': ['son', 'heung-min', 'onye', 'tottenham', 'na', 'ndị', 'otu', 'ya', 'na-nwe', 'anụrị', 'mgbe', 'o', 'nyere', 'goolu', \"n'asọmpị\", 'iko', 'fa.'], 'trg': ['son', 'heung-min', 'of', 'tottenham', 'and', 'his', 'team', 'mates', 'were', 'jubilating', 'when', 'he', 'scored', 'a', 'goal', 'in', 'the', 'fa', 'cup', 'competition.']}\n"
          ],
          "name": "stdout"
        }
      ]
    },
    {
      "cell_type": "markdown",
      "metadata": {
        "id": "udbIgn2239Yg",
        "colab_type": "text"
      },
      "source": [
        "We'll set the random seeds for deterministic results."
      ]
    },
    {
      "cell_type": "code",
      "metadata": {
        "id": "7bOLwAud39Yh",
        "colab_type": "code",
        "colab": {}
      },
      "source": [
        "SEED = 1234\n",
        "\n",
        "random.seed(SEED)\n",
        "np.random.seed(SEED)\n",
        "torch.manual_seed(SEED)\n",
        "torch.cuda.manual_seed(SEED)\n",
        "torch.backends.cudnn.deterministic = True"
      ],
      "execution_count": 0,
      "outputs": []
    },
    {
      "cell_type": "markdown",
      "metadata": {
        "id": "QKJ6ZIRt39Yq",
        "colab_type": "text"
      },
      "source": [
        "Next, we'll build the *vocabulary* for the source and target languages. The vocabulary is used to associate each unique token with an index (an integer). The vocabularies of the source and target languages are distinct.\n",
        "\n",
        "Using the `min_freq` argument, we only allow tokens that appear at least 2 times to appear in our vocabulary. Tokens that appear only once are converted into an `<unk>` (unknown) token.\n",
        "\n",
        "It is important to note that our vocabulary should only be built from the training set and not the validation/test set. This prevents \"information leakage\" into our model, giving us artifically inflated validation/test scores."
      ]
    },
    {
      "cell_type": "code",
      "metadata": {
        "id": "0xq48Nvc39Ys",
        "colab_type": "code",
        "colab": {}
      },
      "source": [
        "SRC.build_vocab(train_data, min_freq = 2)\n",
        "TRG.build_vocab(train_data, min_freq = 2)"
      ],
      "execution_count": 0,
      "outputs": []
    },
    {
      "cell_type": "code",
      "metadata": {
        "id": "THsX6wAR39Yy",
        "colab_type": "code",
        "colab": {
          "base_uri": "https://localhost:8080/",
          "height": 52
        },
        "outputId": "249bcdc1-0309-4361-e2e0-4a790e258beb"
      },
      "source": [
        "print(f\"Unique tokens in source (ig) vocabulary: {len(SRC.vocab)}\")\n",
        "print(f\"Unique tokens in target (en) vocabulary: {len(TRG.vocab)}\")"
      ],
      "execution_count": 10,
      "outputs": [
        {
          "output_type": "stream",
          "text": [
            "Unique tokens in source (ig) vocabulary: 9368\n",
            "Unique tokens in target (en) vocabulary: 11246\n"
          ],
          "name": "stdout"
        }
      ]
    },
    {
      "cell_type": "markdown",
      "metadata": {
        "id": "mfsPtVfi39Y5",
        "colab_type": "text"
      },
      "source": [
        "The final step of preparing the data is to create the iterators. These can be iterated on to return a batch of data which will have a `src` attribute (the PyTorch tensors containing a batch of numericalized source sentences) and a `trg` attribute (the PyTorch tensors containing a batch of numericalized target sentences). Numericalized is just a fancy way of saying they have been converted from a sequence of readable tokens to a sequence of corresponding indexes, using the vocabulary. \n",
        "\n",
        "We also need to define a `torch.device`. This is used to tell TorchText to put the tensors on the GPU or not. We use the `torch.cuda.is_available()` function, which will return `True` if a GPU is detected on our computer. We pass this `device` to the iterator.\n",
        "\n",
        "When we get a batch of examples using an iterator we need to make sure that all of the source sentences are padded to the same length, the same with the target sentences. Luckily, TorchText iterators handle this for us! \n",
        "\n",
        "We use a `BucketIterator` instead of the standard `Iterator` as it creates batches in such a way that it minimizes the amount of padding in both the source and target sentences. "
      ]
    },
    {
      "cell_type": "code",
      "metadata": {
        "id": "1UBOI1r_39Y7",
        "colab_type": "code",
        "colab": {
          "base_uri": "https://localhost:8080/",
          "height": 34
        },
        "outputId": "3d94d371-b7a5-4777-fbc3-cd5cbce18674"
      },
      "source": [
        "device = torch.device('cuda' if torch.cuda.is_available() else 'cpu')\n",
        "device"
      ],
      "execution_count": 11,
      "outputs": [
        {
          "output_type": "execute_result",
          "data": {
            "text/plain": [
              "device(type='cuda')"
            ]
          },
          "metadata": {
            "tags": []
          },
          "execution_count": 11
        }
      ]
    },
    {
      "cell_type": "code",
      "metadata": {
        "id": "LEL0cGU139ZC",
        "colab_type": "code",
        "colab": {}
      },
      "source": [
        "BATCH_SIZE = 8\n",
        "\n",
        "train_iterator, validate_iterator, test_iterator = BucketIterator.splits(\n",
        "    (train_data, validate_data, test_data), \n",
        "    batch_size = BATCH_SIZE, \n",
        "    device = device)"
      ],
      "execution_count": 0,
      "outputs": []
    },
    {
      "cell_type": "markdown",
      "metadata": {
        "id": "Ts08AvRO39ZI",
        "colab_type": "text"
      },
      "source": [
        "### Building the Seq2Seq Model\n",
        "\n",
        "We'll be building our model in three parts. The encoder, the decoder and a seq2seq model that encapsulates the encoder and decoder and will provide a way to interface with each.\n",
        "\n",
        "#### Encoder LSTM"
      ]
    },
    {
      "cell_type": "code",
      "metadata": {
        "id": "rLXN56i-39ZM",
        "colab_type": "code",
        "colab": {}
      },
      "source": [
        "class Encoder(nn.Module):\n",
        "    def __init__(self, input_dim, emb_dim, hid_dim, n_layers, dropout):\n",
        "        super().__init__()\n",
        "        \n",
        "        self.hid_dim = hid_dim\n",
        "        self.n_layers = n_layers\n",
        "        \n",
        "        self.embedding = nn.Embedding(input_dim, emb_dim)\n",
        "        \n",
        "        self.rnn = nn.LSTM(emb_dim, hid_dim, n_layers, dropout = dropout)\n",
        "        \n",
        "        self.dropout = nn.Dropout(dropout)\n",
        "        \n",
        "    def forward(self, src):\n",
        "        \n",
        "        #src = [src len, batch size]\n",
        "        \n",
        "        embedded = self.dropout(self.embedding(src))\n",
        "        \n",
        "        #embedded = [src len, batch size, emb dim]\n",
        "        \n",
        "        outputs, (hidden, cell) = self.rnn(embedded)\n",
        "        \n",
        "        #outputs = [src len, batch size, hid dim * n directions]\n",
        "        #hidden = [n layers * n directions, batch size, hid dim]\n",
        "        #cell = [n layers * n directions, batch size, hid dim]\n",
        "        \n",
        "        #outputs are always from the top hidden layer\n",
        "        \n",
        "        return hidden, cell"
      ],
      "execution_count": 0,
      "outputs": []
    },
    {
      "cell_type": "markdown",
      "metadata": {
        "id": "t3wYRSPQ39ZS",
        "colab_type": "text"
      },
      "source": [
        "#### Decoder"
      ]
    },
    {
      "cell_type": "code",
      "metadata": {
        "id": "jMF9UB_439ZU",
        "colab_type": "code",
        "colab": {}
      },
      "source": [
        "class Decoder(nn.Module):\n",
        "    def __init__(self, output_dim, emb_dim, hid_dim, n_layers, dropout):\n",
        "        super().__init__()\n",
        "        \n",
        "        self.output_dim = output_dim\n",
        "        self.hid_dim = hid_dim\n",
        "        self.n_layers = n_layers\n",
        "        \n",
        "        self.embedding = nn.Embedding(output_dim, emb_dim)\n",
        "        \n",
        "        self.rnn = nn.LSTM(emb_dim, hid_dim, n_layers, dropout = dropout)\n",
        "        \n",
        "        self.fc_out = nn.Linear(hid_dim, output_dim)\n",
        "        \n",
        "        self.dropout = nn.Dropout(dropout)\n",
        "        \n",
        "    def forward(self, input, hidden, cell):\n",
        "        \n",
        "        #input = [batch size]\n",
        "        #hidden = [n layers * n directions, batch size, hid dim]\n",
        "        #cell = [n layers * n directions, batch size, hid dim]\n",
        "        \n",
        "        #n directions in the decoder will both always be 1, therefore:\n",
        "        #hidden = [n layers, batch size, hid dim]\n",
        "        #context = [n layers, batch size, hid dim]\n",
        "        \n",
        "        input = input.unsqueeze(0)\n",
        "        \n",
        "        #input = [1, batch size]\n",
        "        \n",
        "        embedded = self.dropout(self.embedding(input))\n",
        "        \n",
        "        #embedded = [1, batch size, emb dim]\n",
        "                \n",
        "        output, (hidden, cell) = self.rnn(embedded, (hidden, cell))\n",
        "        \n",
        "        #output = [seq len, batch size, hid dim * n directions]\n",
        "        #hidden = [n layers * n directions, batch size, hid dim]\n",
        "        #cell = [n layers * n directions, batch size, hid dim]\n",
        "        \n",
        "        #seq len and n directions will always be 1 in the decoder, therefore:\n",
        "        #output = [1, batch size, hid dim]\n",
        "        #hidden = [n layers, batch size, hid dim]\n",
        "        #cell = [n layers, batch size, hid dim]\n",
        "        \n",
        "        prediction = self.fc_out(output.squeeze(0))\n",
        "        \n",
        "        #prediction = [batch size, output dim]\n",
        "        \n",
        "        return prediction, hidden, cell"
      ],
      "execution_count": 0,
      "outputs": []
    },
    {
      "cell_type": "markdown",
      "metadata": {
        "id": "2-sBJOyi39Zd",
        "colab_type": "text"
      },
      "source": [
        "### Seq2Seq Model"
      ]
    },
    {
      "cell_type": "code",
      "metadata": {
        "id": "CMfgxSzr39Ze",
        "colab_type": "code",
        "colab": {}
      },
      "source": [
        "class Seq2Seq(nn.Module):\n",
        "    def __init__(self, encoder, decoder, device):\n",
        "        super().__init__()\n",
        "        \n",
        "        self.encoder = encoder\n",
        "        self.decoder = decoder\n",
        "        self.device = device\n",
        "        \n",
        "        assert encoder.hid_dim == decoder.hid_dim, \\\n",
        "            \"Hidden dimensions of encoder and decoder must be equal!\"\n",
        "        assert encoder.n_layers == decoder.n_layers, \\\n",
        "            \"Encoder and decoder must have equal number of layers!\"\n",
        "        \n",
        "    def forward(self, src, trg, teacher_forcing_ratio = 0.5):\n",
        "        \n",
        "        #src = [src len, batch size]\n",
        "        #trg = [trg len, batch size]\n",
        "        #teacher_forcing_ratio is probability to use teacher forcing\n",
        "        #e.g. if teacher_forcing_ratio is 0.75 we use ground-truth inputs 75% of the time\n",
        "        \n",
        "        batch_size = trg.shape[1]\n",
        "        trg_len = trg.shape[0]\n",
        "        trg_vocab_size = self.decoder.output_dim\n",
        "        \n",
        "        #tensor to store decoder outputs\n",
        "        outputs = torch.zeros(trg_len, batch_size, trg_vocab_size).to(self.device)\n",
        "        \n",
        "        #last hidden state of the encoder is used as the initial hidden state of the decoder\n",
        "        hidden, cell = self.encoder(src)\n",
        "        \n",
        "        #first input to the decoder is the <sos> tokens\n",
        "        input = trg[0,:]\n",
        "        \n",
        "        for t in range(1, trg_len):\n",
        "            \n",
        "            #insert input token embedding, previous hidden and previous cell states\n",
        "            #receive output tensor (predictions) and new hidden and cell states\n",
        "            output, hidden, cell = self.decoder(input, hidden, cell)\n",
        "            \n",
        "            #place predictions in a tensor holding predictions for each token\n",
        "            outputs[t] = output\n",
        "            \n",
        "            #decide if we are going to use teacher forcing or not\n",
        "            teacher_force = random.random() < teacher_forcing_ratio\n",
        "            \n",
        "            #get the highest predicted token from our predictions\n",
        "            top1 = output.argmax(1) \n",
        "            \n",
        "            #if teacher forcing, use actual next token as next input\n",
        "            #if not, use predicted token\n",
        "            input = trg[t] if teacher_force else top1\n",
        "        \n",
        "        return outputs"
      ],
      "execution_count": 0,
      "outputs": []
    },
    {
      "cell_type": "markdown",
      "metadata": {
        "id": "Bc7zXpJ939Zk",
        "colab_type": "text"
      },
      "source": [
        "# Training the Seq2Seq Model\n",
        "\n",
        "Now we have our model implemented, we can begin training it. \n",
        "\n",
        "First, we'll initialize our model. As mentioned before, the input and output dimensions are defined by the size of the vocabulary. The embedding dimesions and dropout for the encoder and decoder can be different, but the number of layers and the size of the hidden/cell states must be the same. \n",
        "\n",
        "We then define the encoder, decoder and then our Seq2Seq model, which we place on the `device`."
      ]
    },
    {
      "cell_type": "code",
      "metadata": {
        "id": "IHoMNT_i39Zl",
        "colab_type": "code",
        "colab": {}
      },
      "source": [
        "INPUT_DIM = len(SRC.vocab)\n",
        "OUTPUT_DIM = len(TRG.vocab)\n",
        "ENC_EMB_DIM = 256\n",
        "DEC_EMB_DIM = 256\n",
        "HID_DIM = 512\n",
        "N_LAYERS = 2\n",
        "ENC_DROPOUT = 0.5\n",
        "DEC_DROPOUT = 0.5\n",
        "\n",
        "enc = Encoder(INPUT_DIM, ENC_EMB_DIM, HID_DIM, N_LAYERS, ENC_DROPOUT)\n",
        "dec = Decoder(OUTPUT_DIM, DEC_EMB_DIM, HID_DIM, N_LAYERS, DEC_DROPOUT)\n",
        "\n",
        "model = Seq2Seq(enc, dec, device).to(device)"
      ],
      "execution_count": 0,
      "outputs": []
    },
    {
      "cell_type": "markdown",
      "metadata": {
        "id": "HwkCnXPA39Zp",
        "colab_type": "text"
      },
      "source": [
        "Next up is initializing the weights of our model. In the paper they state they initialize all weights from a uniform distribution between -0.08 and +0.08, i.e. $\\mathcal{U}(-0.08, 0.08)$.\n",
        "\n",
        "We initialize weights in PyTorch by creating a function which we `apply` to our model. When using `apply`, the `init_weights` function will be called on every module and sub-module within our model. For each module we loop through all of the parameters and sample them from a uniform distribution with `nn.init.uniform_`."
      ]
    },
    {
      "cell_type": "code",
      "metadata": {
        "id": "vBVsOWJm39Zr",
        "colab_type": "code",
        "colab": {
          "base_uri": "https://localhost:8080/",
          "height": 247
        },
        "outputId": "6f625d97-61eb-4fea-d5ac-31c06872681b"
      },
      "source": [
        "def init_weights(m):\n",
        "    for name, param in m.named_parameters():\n",
        "        nn.init.uniform_(param.data, -0.08, 0.08)\n",
        "        \n",
        "model.apply(init_weights)"
      ],
      "execution_count": 17,
      "outputs": [
        {
          "output_type": "execute_result",
          "data": {
            "text/plain": [
              "Seq2Seq(\n",
              "  (encoder): Encoder(\n",
              "    (embedding): Embedding(9368, 256)\n",
              "    (rnn): LSTM(256, 512, num_layers=2, dropout=0.5)\n",
              "    (dropout): Dropout(p=0.5, inplace=False)\n",
              "  )\n",
              "  (decoder): Decoder(\n",
              "    (embedding): Embedding(11246, 256)\n",
              "    (rnn): LSTM(256, 512, num_layers=2, dropout=0.5)\n",
              "    (fc_out): Linear(in_features=512, out_features=11246, bias=True)\n",
              "    (dropout): Dropout(p=0.5, inplace=False)\n",
              "  )\n",
              ")"
            ]
          },
          "metadata": {
            "tags": []
          },
          "execution_count": 17
        }
      ]
    },
    {
      "cell_type": "markdown",
      "metadata": {
        "id": "FiHLL88139Zx",
        "colab_type": "text"
      },
      "source": [
        "We also define a function that will calculate the number of trainable parameters in the model."
      ]
    },
    {
      "cell_type": "code",
      "metadata": {
        "id": "8n78fEkB39Zy",
        "colab_type": "code",
        "colab": {
          "base_uri": "https://localhost:8080/",
          "height": 34
        },
        "outputId": "3031320d-f353-43cd-af53-e4e4fe8a7d75"
      },
      "source": [
        "def count_parameters(model):\n",
        "    return sum(p.numel() for p in model.parameters() if p.requires_grad)\n",
        "\n",
        "print(f'The model has {count_parameters(model):,} trainable parameters')"
      ],
      "execution_count": 18,
      "outputs": [
        {
          "output_type": "stream",
          "text": [
            "The model has 18,402,798 trainable parameters\n"
          ],
          "name": "stdout"
        }
      ]
    },
    {
      "cell_type": "markdown",
      "metadata": {
        "id": "nwTUK8o-39Z4",
        "colab_type": "text"
      },
      "source": [
        "We define our optimizer, which we use to update our parameters in the training loop. Check out [this](http://ruder.io/optimizing-gradient-descent/) post for information about different optimizers. Here, we'll use Adam."
      ]
    },
    {
      "cell_type": "code",
      "metadata": {
        "id": "0e3QNu0r39Z4",
        "colab_type": "code",
        "colab": {}
      },
      "source": [
        "optimizer = optim.Adam(model.parameters())"
      ],
      "execution_count": 0,
      "outputs": []
    },
    {
      "cell_type": "markdown",
      "metadata": {
        "id": "7rcScefB39Z-",
        "colab_type": "text"
      },
      "source": [
        "Next, we define our loss function. The `CrossEntropyLoss` function calculates both the log softmax as well as the negative log-likelihood of our predictions. \n",
        "\n",
        "Our loss function calculates the average loss per token, however by passing the index of the `<pad>` token as the `ignore_index` argument we ignore the loss whenever the target token is a padding token. "
      ]
    },
    {
      "cell_type": "code",
      "metadata": {
        "id": "gIxcRu1x39Z-",
        "colab_type": "code",
        "colab": {}
      },
      "source": [
        "TRG_PAD_IDX = TRG.vocab.stoi[TRG.pad_token]\n",
        "criterion = nn.CrossEntropyLoss(ignore_index = TRG_PAD_IDX)"
      ],
      "execution_count": 0,
      "outputs": []
    },
    {
      "cell_type": "markdown",
      "metadata": {
        "id": "BKVx4Qsa39aC",
        "colab_type": "text"
      },
      "source": [
        "Next, we'll define our training loop. \n",
        "\n",
        "First, we'll set the model into \"training mode\" with `model.train()`. This will turn on dropout (and batch normalization, which we aren't using) and then iterate through our data iterator.\n",
        "\n",
        "As stated before, our decoder loop starts at 1, not 0. This means the 0th element of our `outputs` tensor remains all zeros. So our `trg` and `outputs` look something like:\n",
        "\n",
        "$$\\begin{align*}\n",
        "\\text{trg} = [<sos>, &y_1, y_2, y_3, <eos>]\\\\\n",
        "\\text{outputs} = [0, &\\hat{y}_1, \\hat{y}_2, \\hat{y}_3, <eos>]\n",
        "\\end{align*}$$\n",
        "\n",
        "Here, when we calculate the loss, we cut off the first element of each tensor to get:\n",
        "\n",
        "$$\\begin{align*}\n",
        "\\text{trg} = [&y_1, y_2, y_3, <eos>]\\\\\n",
        "\\text{outputs} = [&\\hat{y}_1, \\hat{y}_2, \\hat{y}_3, <eos>]\n",
        "\\end{align*}$$\n",
        "\n",
        "At each iteration:\n",
        "- get the source and target sentences from the batch, $X$ and $Y$\n",
        "- zero the gradients calculated from the last batch\n",
        "- feed the source and target into the model to get the output, $\\hat{Y}$\n",
        "- as the loss function only works on 2d inputs with 1d targets we need to flatten each of them with `.view`\n",
        "    - we slice off the first column of the output and target tensors as mentioned above\n",
        "- calculate the gradients with `loss.backward()`\n",
        "- clip the gradients to prevent them from exploding (a common issue in RNNs)\n",
        "- update the parameters of our model by doing an optimizer step\n",
        "- sum the loss value to a running total\n",
        "\n",
        "Finally, we return the loss that is averaged over all batches."
      ]
    },
    {
      "cell_type": "code",
      "metadata": {
        "id": "aNI4rUGU39aD",
        "colab_type": "code",
        "colab": {}
      },
      "source": [
        "def train(model, iterator, optimizer, criterion, clip):\n",
        "    \n",
        "    model.train()\n",
        "    \n",
        "    epoch_loss = 0\n",
        "    \n",
        "    for i, batch in enumerate(iterator):\n",
        "        \n",
        "        src = batch.src\n",
        "        trg = batch.trg\n",
        "        \n",
        "        optimizer.zero_grad()\n",
        "        \n",
        "        output = model(src, trg)\n",
        "        \n",
        "        #trg = [trg len, batch size]\n",
        "        #output = [trg len, batch size, output dim]\n",
        "        \n",
        "        output_dim = output.shape[-1]\n",
        "        \n",
        "        output = output[1:].view(-1, output_dim)\n",
        "        trg = trg[1:].view(-1)\n",
        "        \n",
        "        #trg = [(trg len - 1) * batch size]\n",
        "        #output = [(trg len - 1) * batch size, output dim]\n",
        "        \n",
        "        loss = criterion(output, trg)\n",
        "        \n",
        "        loss.backward()\n",
        "        \n",
        "        torch.nn.utils.clip_grad_norm_(model.parameters(), clip)\n",
        "        \n",
        "        optimizer.step()\n",
        "        \n",
        "        epoch_loss += loss.item()\n",
        "        \n",
        "    return epoch_loss / len(iterator)"
      ],
      "execution_count": 0,
      "outputs": []
    },
    {
      "cell_type": "markdown",
      "metadata": {
        "id": "96WImgRS39aG",
        "colab_type": "text"
      },
      "source": [
        "Our evaluation loop is similar to our training loop, however as we aren't updating any parameters we don't need to pass an optimizer or a clip value.\n",
        "\n",
        "We must remember to set the model to evaluation mode with `model.eval()`. This will turn off dropout (and batch normalization, if used).\n",
        "\n",
        "We use the `with torch.no_grad()` block to ensure no gradients are calculated within the block. This reduces memory consumption and speeds things up. \n",
        "\n",
        "The iteration loop is similar (without the parameter updates), however we must ensure we turn teacher forcing off for evaluation. This will cause the model to only use it's own predictions to make further predictions within a sentence, which mirrors how it would be used in deployment."
      ]
    },
    {
      "cell_type": "code",
      "metadata": {
        "id": "BfvxayMx39aG",
        "colab_type": "code",
        "colab": {}
      },
      "source": [
        "def evaluate(model, iterator, criterion):\n",
        "    \n",
        "    model.eval()\n",
        "    \n",
        "    epoch_loss = 0\n",
        "    \n",
        "    with torch.no_grad():\n",
        "    \n",
        "        for i, batch in enumerate(iterator):\n",
        "\n",
        "            src = batch.src\n",
        "            trg = batch.trg\n",
        "\n",
        "            output = model(src, trg, 0) #turn off teacher forcing\n",
        "\n",
        "            #trg = [trg len, batch size]\n",
        "            #output = [trg len, batch size, output dim]\n",
        "\n",
        "            output_dim = output.shape[-1]\n",
        "            \n",
        "            output = output[1:].view(-1, output_dim)\n",
        "            trg = trg[1:].view(-1)\n",
        "\n",
        "            #trg = [(trg len - 1) * batch size]\n",
        "            #output = [(trg len - 1) * batch size, output dim]\n",
        "\n",
        "            loss = criterion(output, trg)\n",
        "            \n",
        "            epoch_loss += loss.item()\n",
        "        \n",
        "    return epoch_loss / len(iterator)"
      ],
      "execution_count": 0,
      "outputs": []
    },
    {
      "cell_type": "markdown",
      "metadata": {
        "id": "TW3kzzSe39aK",
        "colab_type": "text"
      },
      "source": [
        "Next, we'll create a function that we'll use to tell us how long an epoch takes."
      ]
    },
    {
      "cell_type": "code",
      "metadata": {
        "id": "MtBAGtP_39aK",
        "colab_type": "code",
        "colab": {}
      },
      "source": [
        "def epoch_time(start_time, end_time):\n",
        "    elapsed_time = end_time - start_time\n",
        "    elapsed_mins = int(elapsed_time / 60)\n",
        "    elapsed_secs = int(elapsed_time - (elapsed_mins * 60))\n",
        "    return elapsed_mins, elapsed_secs"
      ],
      "execution_count": 0,
      "outputs": []
    },
    {
      "cell_type": "markdown",
      "metadata": {
        "id": "mu-Zi9Yi39aa",
        "colab_type": "text"
      },
      "source": [
        "We can finally start training our model!\n",
        "\n",
        "At each epoch, we'll be checking if our model has achieved the best validation loss so far. If it has, we'll update our best validation loss and save the parameters of our model (called `state_dict` in PyTorch). Then, when we come to test our model, we'll use the saved parameters used to achieve the best validation loss. \n",
        "\n",
        "We'll be printing out both the loss and the perplexity at each epoch. It is easier to see a change in perplexity than a change in loss as the numbers are much bigger."
      ]
    },
    {
      "cell_type": "code",
      "metadata": {
        "id": "l1VnNbA239ac",
        "colab_type": "code",
        "colab": {
          "base_uri": "https://localhost:8080/",
          "height": 1000
        },
        "outputId": "ef58bfda-983b-496a-ca9c-6216f0414956"
      },
      "source": [
        "N_EPOCHS = 30\n",
        "CLIP = 1\n",
        "print(f'-----------<Training started>-----------')\n",
        "best_valid_loss = float('inf')\n",
        "\n",
        "for epoch in range(N_EPOCHS):\n",
        "    \n",
        "    start_time = time.time()\n",
        "    \n",
        "    train_loss = train(model, train_iterator, optimizer, criterion, CLIP)\n",
        "    valid_loss = evaluate(model, validate_iterator, criterion)\n",
        "    \n",
        "    end_time = time.time()\n",
        "    \n",
        "    epoch_mins, epoch_secs = epoch_time(start_time, end_time)\n",
        "    \n",
        "    if valid_loss < best_valid_loss:\n",
        "        best_valid_loss = valid_loss\n",
        "        torch.save(model.state_dict(), 'igen-model.pt')\n",
        "    \n",
        "    print(f'Epoch: {epoch+1:02} | Time: {epoch_mins}m {epoch_secs}s')\n",
        "    print(f'\\tTrain Loss: {train_loss:.3f} | Train PPL: {math.exp(train_loss):7.3f}')\n",
        "    print(f'\\t Val. Loss: {valid_loss:.3f} |  Val. PPL: {math.exp(valid_loss):7.3f}')\n",
        "print(f'-----------<Training ended>-----------')"
      ],
      "execution_count": 24,
      "outputs": [
        {
          "output_type": "stream",
          "text": [
            "-----------<Training started>-----------\n",
            "Epoch: 01 | Time: 3m 13s\n",
            "\tTrain Loss: 6.649 | Train PPL: 772.055\n",
            "\t Val. Loss: 6.222 |  Val. PPL: 503.549\n",
            "Epoch: 02 | Time: 3m 14s\n",
            "\tTrain Loss: 6.306 | Train PPL: 547.772\n",
            "\t Val. Loss: 6.184 |  Val. PPL: 484.989\n",
            "Epoch: 03 | Time: 3m 12s\n",
            "\tTrain Loss: 6.117 | Train PPL: 453.450\n",
            "\t Val. Loss: 6.174 |  Val. PPL: 480.285\n",
            "Epoch: 04 | Time: 3m 14s\n",
            "\tTrain Loss: 5.949 | Train PPL: 383.293\n",
            "\t Val. Loss: 6.226 |  Val. PPL: 505.855\n",
            "Epoch: 05 | Time: 3m 13s\n",
            "\tTrain Loss: 5.796 | Train PPL: 328.974\n",
            "\t Val. Loss: 6.181 |  Val. PPL: 483.605\n",
            "Epoch: 06 | Time: 3m 13s\n",
            "\tTrain Loss: 5.661 | Train PPL: 287.382\n",
            "\t Val. Loss: 6.169 |  Val. PPL: 477.499\n",
            "Epoch: 07 | Time: 3m 13s\n",
            "\tTrain Loss: 5.542 | Train PPL: 255.140\n",
            "\t Val. Loss: 6.195 |  Val. PPL: 490.181\n",
            "Epoch: 08 | Time: 3m 14s\n",
            "\tTrain Loss: 5.435 | Train PPL: 229.265\n",
            "\t Val. Loss: 6.224 |  Val. PPL: 504.872\n",
            "Epoch: 09 | Time: 3m 14s\n",
            "\tTrain Loss: 5.313 | Train PPL: 202.968\n",
            "\t Val. Loss: 6.246 |  Val. PPL: 515.890\n",
            "Epoch: 10 | Time: 3m 15s\n",
            "\tTrain Loss: 5.211 | Train PPL: 183.226\n",
            "\t Val. Loss: 6.271 |  Val. PPL: 529.183\n",
            "Epoch: 11 | Time: 3m 14s\n",
            "\tTrain Loss: 5.082 | Train PPL: 161.016\n",
            "\t Val. Loss: 6.270 |  Val. PPL: 528.479\n",
            "Epoch: 12 | Time: 3m 14s\n",
            "\tTrain Loss: 4.997 | Train PPL: 147.931\n",
            "\t Val. Loss: 6.274 |  Val. PPL: 530.462\n",
            "Epoch: 13 | Time: 3m 15s\n",
            "\tTrain Loss: 4.875 | Train PPL: 131.009\n",
            "\t Val. Loss: 6.341 |  Val. PPL: 567.423\n",
            "Epoch: 14 | Time: 3m 15s\n",
            "\tTrain Loss: 4.788 | Train PPL: 120.019\n",
            "\t Val. Loss: 6.308 |  Val. PPL: 548.851\n",
            "Epoch: 15 | Time: 3m 15s\n",
            "\tTrain Loss: 4.680 | Train PPL: 107.746\n",
            "\t Val. Loss: 6.321 |  Val. PPL: 556.161\n",
            "Epoch: 16 | Time: 3m 16s\n",
            "\tTrain Loss: 4.591 | Train PPL:  98.566\n",
            "\t Val. Loss: 6.368 |  Val. PPL: 582.694\n",
            "Epoch: 17 | Time: 3m 14s\n",
            "\tTrain Loss: 4.485 | Train PPL:  88.712\n",
            "\t Val. Loss: 6.454 |  Val. PPL: 635.156\n",
            "Epoch: 18 | Time: 3m 15s\n",
            "\tTrain Loss: 4.402 | Train PPL:  81.624\n",
            "\t Val. Loss: 6.628 |  Val. PPL: 756.181\n",
            "Epoch: 19 | Time: 3m 14s\n",
            "\tTrain Loss: 4.322 | Train PPL:  75.312\n",
            "\t Val. Loss: 6.539 |  Val. PPL: 691.657\n",
            "Epoch: 20 | Time: 3m 12s\n",
            "\tTrain Loss: 4.240 | Train PPL:  69.377\n",
            "\t Val. Loss: 6.679 |  Val. PPL: 795.426\n",
            "Epoch: 21 | Time: 3m 15s\n",
            "\tTrain Loss: 4.137 | Train PPL:  62.586\n",
            "\t Val. Loss: 6.686 |  Val. PPL: 800.823\n",
            "Epoch: 22 | Time: 3m 14s\n",
            "\tTrain Loss: 4.079 | Train PPL:  59.087\n",
            "\t Val. Loss: 6.821 |  Val. PPL: 916.627\n",
            "Epoch: 23 | Time: 3m 15s\n",
            "\tTrain Loss: 3.990 | Train PPL:  54.033\n",
            "\t Val. Loss: 6.780 |  Val. PPL: 879.852\n",
            "Epoch: 24 | Time: 3m 15s\n",
            "\tTrain Loss: 3.919 | Train PPL:  50.368\n",
            "\t Val. Loss: 7.016 |  Val. PPL: 1114.723\n",
            "Epoch: 25 | Time: 3m 14s\n",
            "\tTrain Loss: 3.844 | Train PPL:  46.708\n",
            "\t Val. Loss: 6.866 |  Val. PPL: 958.946\n",
            "Epoch: 26 | Time: 3m 15s\n",
            "\tTrain Loss: 3.777 | Train PPL:  43.673\n",
            "\t Val. Loss: 7.022 |  Val. PPL: 1121.042\n",
            "Epoch: 27 | Time: 3m 12s\n",
            "\tTrain Loss: 3.701 | Train PPL:  40.496\n",
            "\t Val. Loss: 7.157 |  Val. PPL: 1283.523\n",
            "Epoch: 28 | Time: 3m 15s\n",
            "\tTrain Loss: 3.636 | Train PPL:  37.935\n",
            "\t Val. Loss: 7.123 |  Val. PPL: 1239.548\n",
            "Epoch: 29 | Time: 3m 15s\n",
            "\tTrain Loss: 3.590 | Train PPL:  36.240\n",
            "\t Val. Loss: 7.124 |  Val. PPL: 1241.748\n",
            "Epoch: 30 | Time: 3m 14s\n",
            "\tTrain Loss: 3.505 | Train PPL:  33.266\n",
            "\t Val. Loss: 7.250 |  Val. PPL: 1408.100\n",
            "-----------<Training ended>-----------\n"
          ],
          "name": "stdout"
        }
      ]
    },
    {
      "cell_type": "markdown",
      "metadata": {
        "id": "dPQrXioQ39aj",
        "colab_type": "text"
      },
      "source": [
        "We'll load the parameters (`state_dict`) that gave our model the best validation loss and run it the model on the test set."
      ]
    },
    {
      "cell_type": "code",
      "metadata": {
        "id": "Z8rdjMM739ak",
        "colab_type": "code",
        "colab": {
          "base_uri": "https://localhost:8080/",
          "height": 34
        },
        "outputId": "afb4e35c-3d54-4f0d-a8c5-fb4938073c7b"
      },
      "source": [
        "model.load_state_dict(torch.load('igen-model.pt'))\n",
        "\n",
        "test_loss = evaluate(model, test_iterator, criterion)\n",
        "\n",
        "print(f'| Test Loss: {test_loss:.3f} | Test PPL: {math.exp(test_loss):7.3f} |')"
      ],
      "execution_count": 25,
      "outputs": [
        {
          "output_type": "stream",
          "text": [
            "| Test Loss: 6.174 | Test PPL: 480.094 |\n"
          ],
          "name": "stdout"
        }
      ]
    },
    {
      "cell_type": "markdown",
      "metadata": {
        "id": "-iBlE2Va39aq",
        "colab_type": "text"
      },
      "source": [
        "This is our first implementation and, as may be observed, it performed poorly on _validation_ and _test_."
      ]
    }
  ]
}
