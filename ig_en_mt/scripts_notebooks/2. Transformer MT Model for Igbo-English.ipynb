{
  "nbformat": 4,
  "nbformat_minor": 0,
  "metadata": {
    "kernelspec": {
      "display_name": "Python 3",
      "language": "python",
      "name": "python3"
    },
    "language_info": {
      "codemirror_mode": {
        "name": "ipython",
        "version": 3
      },
      "file_extension": ".py",
      "mimetype": "text/x-python",
      "name": "python",
      "nbconvert_exporter": "python",
      "pygments_lexer": "ipython3",
      "version": "3.7.4"
    },
    "colab": {
      "name": "2. Transformer MT Model for Igbo-English.ipynb",
      "provenance": [],
      "include_colab_link": true
    },
    "accelerator": "GPU"
  },
  "cells": [
    {
      "cell_type": "markdown",
      "metadata": {
        "id": "view-in-github",
        "colab_type": "text"
      },
      "source": [
        "<a href=\"https://colab.research.google.com/github/IgnatiusEzeani/IGBONLP/blob/master/ig_en_mt/scripts_notebooks/2.%20Transformer%20MT%20Model%20for%20Igbo-English.ipynb\" target=\"_parent\"><img src=\"https://colab.research.google.com/assets/colab-badge.svg\" alt=\"Open In Colab\"/></a>"
      ]
    },
    {
      "cell_type": "markdown",
      "metadata": {
        "id": "8G4EAT6Spi4t",
        "colab_type": "text"
      },
      "source": [
        "# Transformer MT Model for Igbo-English\n",
        "\n",
        "In this work, we discuss our effort toward building a standard evaluation benchmark dataset for Igbo-English machine translation tasks.\n",
        "\n",
        "## Table of Content\n",
        "\n",
        "<!-- [TOC] -->\n",
        "<div class=\"toc\">\n",
        "<ol>\n",
        "<li><a href=\"#introduction\">Introduction</a></li>\n",
        "<li><a href=\"#evaldataset\">Evaluation Dataset</a></li>\n",
        "<li><a href=\"#buildingModel\">Building the Igbo-English Translation Model</a>\n",
        "<li><a href=\"#transformerModel\">Overview of the Transformer Model</a></li> \n",
        "<li><a href=\"#dataprep\">Data Preparation</a></li>\n",
        "\n",
        "<li><a href=\"#acknowledgement\">Acknowledgement</a></li>\n",
        "</ol>\n",
        "</div>\n",
        "\n",
        "<a id=\"introduction\"></a>\n",
        "## Introduction\n",
        "\n",
        "[Igbo language](https://en.wikipedia.org/wiki/Igbo_language) is one of the 3 major Nigerian languages spoken by approximately 50 million people globally, 70% of whom are in southeastern Nigeria. It is low-resourced in terms of natural language processing. IGBONLP despite some efforts toward developing IgboNLP such as part-of-speech tagging: [Onyenwe et al. (2014)](http://eprints.whiterose.ac.uk/117817/1/W14-4914.pdf), [Onyenwe et al. (2019)](https://www.researchgate.net/publication/333333916_Toward_an_Effective_Igbo_Part-of-Speech_Tagger); and diacritic restoration: [Ezeani et al. (2016)](http://eprints.whiterose.ac.uk/117833/1/TSD_2016_Ezeani.pdf), [Ezeani et al. (2018)](https://www.aclweb.org/anthology/N18-4008).\n",
        "\n",
        "Although there are existing sources for collecting Igbo monolingual and parallel data, such as the [OPUS Project (Tiedemann, 2012)](http://opus.nlpl.eu/) or the [JW.ORG](https://www.jw.org/ig), they have certain limitations. The OPUS Project is a good source training data but, given that there are no human validations, may not be good as an evaluation benchmark. JW.ORG contents, on the other hand, are human generated and of good quality but the genre is often skewed to religiouscontexts and therefore may not be good for building a generalisable model.\n",
        "\n",
        "This project focuses on creating and publicly releasing a standard evaluation benchmark dataset for Igbo-English machine translation research for the NLP research community. This project aims to build, maintain and publicly share a standard benchmark dataset for Igbo-English machine translation research.\n",
        "\n",
        "<a id=\"evaldataset\"></a>\n",
        "## Evaluation Dataset\n",
        "The evaluation dataset was created using the approach laid out in the paper: [Igbo-English Machine Translation: An Evaluation Benchmark](https://eprints.lancs.ac.uk/id/eprint/143011/1/2004.00648.pdf).\n",
        "\n",
        "There are 5 key objectives:\n",
        "1. To create a minimum of 10,000 English-Igbo human-level quality sentence pairs mostly from the news domain\n",
        "2. To assemble and clean a minimum of 100,000 monolingual Igbo sentences, mostly from the news domain, as companion monolingual data for training Igbo language models\n",
        "3. To train a translation model with from a large, synthetically collected dataset (e.g [JW300](http://opus.nlpl.eu/JW300.php)) using a standard NMT architecture or framework (e.g. [JoeyNMT](https://joeynmt.readthedocs.io/en/latest/) on the [Masakhane](https://github.com/IgnatiusEzeani/masakhane-mt/tree/master/benchmarks) platform)\n",
        "4. To apply the trained MT model to the human-validated benchmark dataset  \n",
        "5. To release the dataset to the research community as well as present it at a conference and publish a journal paper that details the processes involved.\n",
        "\n",
        "Al available data can be accessed from [IGBONLP GitHub Repo](https://github.com/IgnatiusEzeani/IGBONLP/tree/master/ig_en_mt).\n",
        "\n",
        "<a id=\"buildingModel\"></a>\n",
        "## Building the Igbo-English Translation Model\n",
        "With this Jupyter notebook, we present a simple usage demo of the evaluation benchmark dataset which was reported in the [paper](https://eprints.lancs.ac.uk/id/eprint/143011/1/2004.00648.pdf). We will also be building a `Transformer` based neural machine translation model for Igbo-English machine translation, using [PyTorch](https://pytorch.org/) and [TorchText](https://pytorch.org/text/index.html).\n",
        "\n",
        "<a id=\"transformerModel\"></a>\n",
        "### Overview of the Transformer Model\n",
        "We will build a *Sequence-to-Sequence* (Seq2Seq) model based on the method described in the paper  [Attention is All You Need by Vaswani et al.](https://arxiv.org/abs/1706.03762).\n",
        "\n",
        "The Transformer architecture gave rise to popular embedding models such as [BERT](https://arxiv.org/abs/1810.04805) (**B**idirectional **E**ncoder **R**epresentations from **T**ransformers). Pre-trained versions of BERT are commonly used to replace the embedding layers - if not more - in NLP models.\n",
        "\n",
        "While the previous *Seq2Seq* models and their variants use a *recurrent* (LSTM and GRUs) and *convolutional* (CNN) layers with the attention mechanism, the Transformer is based *solely* on the attention mechanism, dispensing entirely with recurrence and convolutions. \n",
        "\n",
        "<a id=\"dataprep\"></a>\n",
        "### Data Preparation\n",
        "The models will be coded in PyTorch while the data pre-processing and preparation will be done using TorchText. We will assume that these required modules have been installed: `torch`, `torchtext`, `numpy`"
      ]
    },
    {
      "cell_type": "code",
      "metadata": {
        "id": "GJXSso6WrZ7u",
        "colab_type": "code",
        "outputId": "c2fad069-ca82-4e1f-8dee-66a631297262",
        "colab": {
          "base_uri": "https://localhost:8080/",
          "height": 145
        }
      },
      "source": [
        "!git clone https://github.com/IgnatiusEzeani/IGBONLP.git"
      ],
      "execution_count": 1,
      "outputs": [
        {
          "output_type": "stream",
          "text": [
            "Cloning into 'IGBONLP'...\n",
            "remote: Enumerating objects: 94, done.\u001b[K\n",
            "remote: Counting objects: 100% (94/94), done.\u001b[K\n",
            "remote: Compressing objects: 100% (85/85), done.\u001b[K\n",
            "remote: Total 461 (delta 66), reused 31 (delta 9), pack-reused 367\u001b[K\n",
            "Receiving objects: 100% (461/461), 124.88 MiB | 12.66 MiB/s, done.\n",
            "Resolving deltas: 100% (267/267), done.\n"
          ],
          "name": "stdout"
        }
      ]
    },
    {
      "cell_type": "markdown",
      "metadata": {
        "id": "6ZOTw-rard6u",
        "colab_type": "text"
      },
      "source": [
        "Change to the working directory `/content/IGBONLP/ig_en_mt/scripts_notebooks`"
      ]
    },
    {
      "cell_type": "code",
      "metadata": {
        "id": "uIpoo3xkrpOg",
        "colab_type": "code",
        "outputId": "90580a1a-eb60-49cc-ccf0-ee71d234c6cf",
        "colab": {
          "base_uri": "https://localhost:8080/",
          "height": 35
        }
      },
      "source": [
        "cd IGBONLP/ig_en_mt/scripts_notebooks/"
      ],
      "execution_count": 2,
      "outputs": [
        {
          "output_type": "stream",
          "text": [
            "/content/IGBONLP/ig_en_mt/scripts_notebooks\n"
          ],
          "name": "stdout"
        }
      ]
    },
    {
      "cell_type": "markdown",
      "metadata": {
        "id": "BnHwikZ_rL7-",
        "colab_type": "text"
      },
      "source": [
        "\n",
        "Let's start by making the basic imports"
      ]
    },
    {
      "cell_type": "code",
      "metadata": {
        "id": "KtmYvrWfpi4w",
        "colab_type": "code",
        "colab": {}
      },
      "source": [
        "import torch\n",
        "import torch.nn as nn\n",
        "import torch.optim as optim\n",
        "\n",
        "from torchtext.datasets import TranslationDataset\n",
        "from torchtext.data import Field, BucketIterator\n",
        "\n",
        "import matplotlib.pyplot as plt\n",
        "import matplotlib.ticker as ticker\n",
        "\n",
        "import os\n",
        "import numpy as np\n",
        "\n",
        "import random\n",
        "import math\n",
        "import time"
      ],
      "execution_count": 0,
      "outputs": []
    },
    {
      "cell_type": "markdown",
      "metadata": {
        "id": "NjjYsYKppi44",
        "colab_type": "text"
      },
      "source": [
        "We need a `tokenizer` for both languages. Here we are using a very basic one that splits the text on spaces. This is basically because the dataset has been presented in that format. Ideally, it may be necessary to use a more tailored tokenizer depending on the language and/or the task. But this will do for now.\n",
        "\n",
        "We will then use TorchText's [Field](https://pytorch.org/text/_modules/torchtext/data/field.html) (see implemetation [here]((https://github.com/pytorch/text/blob/master/torchtext/data/field.py#L61)) class to define the structure of the data. The `tokenize` argument is set to the tokenization function for both languages. The `Field` appends the \"start of sequence\" (`init_token`) and \"end of sequence\" (`eos_token`). All words are converted to lowercase."
      ]
    },
    {
      "cell_type": "code",
      "metadata": {
        "id": "1r0J2hUhpi45",
        "colab_type": "code",
        "colab": {}
      },
      "source": [
        "def tokenize(text):\n",
        "    return [token for token in text.split()]\n",
        "\n",
        "SRC = Field(tokenize = tokenize, init_token = '<sos>', eos_token = '<eos>',\n",
        "            lower = True, batch_first = True)\n",
        "TRG = Field(tokenize = tokenize, init_token = '<sos>', eos_token = '<eos>',\n",
        "            lower = True, batch_first = True)"
      ],
      "execution_count": 0,
      "outputs": []
    },
    {
      "cell_type": "markdown",
      "metadata": {
        "id": "FfAxwCs4pi5B",
        "colab_type": "text"
      },
      "source": [
        "We then load the evaluation data from our [dataset](https://github.com/IgnatiusEzeani/IGBONLP/tree/master/ig_en_mt/ig_parallel). So far it contains approximately ~12,000 parallel Igbo and English sentences.\n",
        "\n",
        "We split the dataset into *train*, *validate* and *test* sets by specifying the source and target extensions (`exts`) and using the `Field` objects create above. The `exts` indicates the languages to use as the *source* and *target* (source first) and `fields` specifies which field to use for the source and target."
      ]
    },
    {
      "cell_type": "code",
      "metadata": {
        "id": "MhbJoTN_pi5C",
        "colab_type": "code",
        "colab": {}
      },
      "source": [
        "data_folder = 'benchmark_dataset' #benchmark evalset in 'benchmark_dataset', training data in 'masakhane_JW300_enig'\n",
        "fields, exts = (SRC,TRG), ('.ig','.en')\n",
        "train_data, validate_data, test_data = TranslationDataset.splits(fields=fields, exts=exts,\n",
        "                        path=os.path.join('./..', data_folder),\n",
        "                        train='train', validation='val', test='test')"
      ],
      "execution_count": 0,
      "outputs": []
    },
    {
      "cell_type": "markdown",
      "metadata": {
        "id": "0HOFv0DQpi5I",
        "colab_type": "text"
      },
      "source": [
        "To be sure that we loaded the data correctly, we can check whether the number of example we have for each split corresponds with what we expect."
      ]
    },
    {
      "cell_type": "code",
      "metadata": {
        "id": "juSb1rGwpi5J",
        "colab_type": "code",
        "outputId": "3ae0cf44-c5a9-4f80-9f24-670ca414abf0",
        "colab": {
          "base_uri": "https://localhost:8080/",
          "height": 72
        }
      },
      "source": [
        "print(f\"{'Training examples':>20s}: {len(train_data.examples)}\")\n",
        "print(f\"{'Validation examples':>20s}: {len(validate_data.examples)}\")\n",
        "print(f\"{'Testing examples':>20s}: {len(test_data.examples)}\")"
      ],
      "execution_count": 6,
      "outputs": [
        {
          "output_type": "stream",
          "text": [
            "   Training examples: 9999\n",
            " Validation examples: 200\n",
            "    Testing examples: 542\n"
          ],
          "name": "stdout"
        }
      ]
    },
    {
      "cell_type": "markdown",
      "metadata": {
        "id": "AbujVL63pi5P",
        "colab_type": "text"
      },
      "source": [
        "We can also confirm that the language pairs are correctly loaded i.e. the correct *source* and *target* in their positions"
      ]
    },
    {
      "cell_type": "code",
      "metadata": {
        "id": "v_HH2f-Hpi5Q",
        "colab_type": "code",
        "outputId": "ee88e147-2c10-4c27-90d6-5c5f467b2021",
        "colab": {
          "base_uri": "https://localhost:8080/",
          "height": 35
        }
      },
      "source": [
        "print(vars(train_data.examples[0]))"
      ],
      "execution_count": 7,
      "outputs": [
        {
          "output_type": "stream",
          "text": [
            "{'src': ['akụkọ', 'ndị', 'ga-amasị', 'gị:'], 'trg': ['the', 'news', 'that', 'will', 'interest', 'you:']}\n"
          ],
          "name": "stdout"
        }
      ]
    },
    {
      "cell_type": "markdown",
      "metadata": {
        "id": "mBkyJDpPpi5b",
        "colab_type": "text"
      },
      "source": [
        "We'll set the random seeds for deterministic results."
      ]
    },
    {
      "cell_type": "code",
      "metadata": {
        "id": "r8avicOTpi5c",
        "colab_type": "code",
        "colab": {}
      },
      "source": [
        "SEED = 1234\n",
        "\n",
        "random.seed(SEED)\n",
        "np.random.seed(SEED)\n",
        "torch.manual_seed(SEED)\n",
        "torch.cuda.manual_seed(SEED)\n",
        "torch.backends.cudnn.deterministic = True"
      ],
      "execution_count": 0,
      "outputs": []
    },
    {
      "cell_type": "markdown",
      "metadata": {
        "id": "X5whzWPKpi5k",
        "colab_type": "text"
      },
      "source": [
        "Next, we'll build the *vocabulary* for the source and target languages. The vocabulary is used to associate each unique token with an index (an integer). The vocabularies of the source and target languages are distinct.\n",
        "\n",
        "Using the `min_freq` argument, we only allow tokens that appear at least 2 times to appear in our vocabulary. Tokens that appear only once are converted into an `<unk>` (unknown) token.\n",
        "\n",
        "It is important to note that our vocabulary should only be built from the training set and not the validation/test set. This prevents \"information leakage\" into our model, giving us artifically inflated validation/test scores."
      ]
    },
    {
      "cell_type": "code",
      "metadata": {
        "id": "Y3qNf8kppi5m",
        "colab_type": "code",
        "colab": {}
      },
      "source": [
        "SRC.build_vocab(train_data, min_freq = 2)\n",
        "TRG.build_vocab(train_data, min_freq = 2)"
      ],
      "execution_count": 0,
      "outputs": []
    },
    {
      "cell_type": "code",
      "metadata": {
        "id": "y0UpEO3Dpi5s",
        "colab_type": "code",
        "outputId": "ca2ff08d-66d7-4322-a564-a019b59bcbf6",
        "colab": {
          "base_uri": "https://localhost:8080/",
          "height": 54
        }
      },
      "source": [
        "print(f\"Unique tokens in source (ig) vocabulary: {len(SRC.vocab)}\")\n",
        "print(f\"Unique tokens in target (en) vocabulary: {len(TRG.vocab)}\")"
      ],
      "execution_count": 10,
      "outputs": [
        {
          "output_type": "stream",
          "text": [
            "Unique tokens in source (ig) vocabulary: 8881\n",
            "Unique tokens in target (en) vocabulary: 10351\n"
          ],
          "name": "stdout"
        }
      ]
    },
    {
      "cell_type": "markdown",
      "metadata": {
        "id": "Zn8vwa5bpi5z",
        "colab_type": "text"
      },
      "source": [
        "The final step of preparing the data is to create the iterators. These can be iterated on to return a batch of data which will have a `src` attribute (the PyTorch tensors containing a batch of numericalized source sentences) and a `trg` attribute (the PyTorch tensors containing a batch of numericalized target sentences). Numericalized is just a fancy way of saying they have been converted from a sequence of readable tokens to a sequence of corresponding indexes, using the vocabulary. \n",
        "\n",
        "We also need to define a `torch.device`. This is used to tell TorchText to put the tensors on the GPU or not. We use the `torch.cuda.is_available()` function, which will return `True` if a GPU is detected on our computer. We pass this `device` to the iterator.\n",
        "\n",
        "When we get a batch of examples using an iterator we need to make sure that all of the source sentences are padded to the same length, the same with the target sentences. Luckily, TorchText iterators handle this for us! \n",
        "\n",
        "We use a `BucketIterator` instead of the standard `Iterator` as it creates batches in such a way that it minimizes the amount of padding in both the source and target sentences. "
      ]
    },
    {
      "cell_type": "code",
      "metadata": {
        "id": "1BB-XPiPpi50",
        "colab_type": "code",
        "outputId": "fd3f739c-71f3-4ac3-a25f-2237624a4363",
        "colab": {
          "base_uri": "https://localhost:8080/",
          "height": 35
        }
      },
      "source": [
        "device = torch.device('cuda' if torch.cuda.is_available() else 'cpu')\n",
        "device"
      ],
      "execution_count": 11,
      "outputs": [
        {
          "output_type": "execute_result",
          "data": {
            "text/plain": [
              "device(type='cuda')"
            ]
          },
          "metadata": {
            "tags": []
          },
          "execution_count": 11
        }
      ]
    },
    {
      "cell_type": "code",
      "metadata": {
        "id": "jtJJF-bypi57",
        "colab_type": "code",
        "colab": {}
      },
      "source": [
        "BATCH_SIZE = 128\n",
        "\n",
        "train_iterator, validate_iterator, test_iterator = BucketIterator.splits(\n",
        "    (train_data, validate_data, test_data), \n",
        "    batch_size = BATCH_SIZE, \n",
        "    device = device)"
      ],
      "execution_count": 0,
      "outputs": []
    },
    {
      "cell_type": "markdown",
      "metadata": {
        "id": "_66HhkrRpi6G",
        "colab_type": "text"
      },
      "source": [
        "### Building the Transformer Model\n",
        "The basic layout of the Transformer model is the same to other *Seq2Seq* architectures. It has three main parts:\n",
        "\n",
        "*   the *encoder*: which encodes the input/source sentence (in target language) into a *context vector*\n",
        "*   the *decoder*: which decodes this *context vector* to product the output/target sentence\n",
        "*   and finally, the *Transformer* model that encapsulates both processes in a single pipeline.\n",
        "\n",
        "Other concepts like the *attention* and the *positional embedding* will be discussed and implemented below.\n",
        "\n",
        "#### The `Encoder` and the `EncoderLayer`"
      ]
    },
    {
      "cell_type": "code",
      "metadata": {
        "id": "HN4Pc2iipi6I",
        "colab_type": "code",
        "colab": {}
      },
      "source": [
        "class Encoder(nn.Module):\n",
        "    def __init__(self, input_dim, hid_dim, n_layers, n_heads, pf_dim,\n",
        "                 dropout, device, max_length = 100):\n",
        "        super().__init__()\n",
        "        self.device = device\n",
        "        \n",
        "        self.tok_embedding = nn.Embedding(input_dim, hid_dim)\n",
        "        self.pos_embedding = nn.Embedding(max_length, hid_dim)\n",
        "        \n",
        "        self.layers = nn.ModuleList([EncoderLayer(hid_dim, \n",
        "                                                  n_heads, \n",
        "                                                  pf_dim,\n",
        "                                                  dropout, \n",
        "                                                  device) \n",
        "                                     for _ in range(n_layers)])\n",
        "        \n",
        "        self.dropout = nn.Dropout(dropout)\n",
        "        \n",
        "        self.scale = torch.sqrt(torch.FloatTensor([hid_dim])).to(device)\n",
        "        \n",
        "    def forward(self, src, src_mask):\n",
        "        \n",
        "        #src = [batch size, src len]\n",
        "        #src_mask = [batch size, src len]\n",
        "        \n",
        "        batch_size = src.shape[0]\n",
        "        src_len = src.shape[1]\n",
        "        \n",
        "        pos = torch.arange(0, src_len).unsqueeze(0).repeat(batch_size, 1).to(self.device)\n",
        "        \n",
        "        #pos = [batch size, src len]\n",
        "        \n",
        "        src = self.dropout((self.tok_embedding(src) * self.scale) + self.pos_embedding(pos))\n",
        "        \n",
        "        #src = [batch size, src len, hid dim]\n",
        "        \n",
        "        for layer in self.layers:\n",
        "            src = layer(src, src_mask)\n",
        "            \n",
        "        #src = [batch size, src len, hid dim]\n",
        "            \n",
        "        return src"
      ],
      "execution_count": 0,
      "outputs": []
    },
    {
      "cell_type": "code",
      "metadata": {
        "id": "OzOcvyl4bICj",
        "colab_type": "code",
        "colab": {}
      },
      "source": [
        "# The EncoderLayer\n",
        "class EncoderLayer(nn.Module):\n",
        "    def __init__(self, hid_dim, n_heads, pf_dim, dropout, device):\n",
        "        super().__init__()\n",
        "        \n",
        "        self.layer_norm = nn.LayerNorm(hid_dim)\n",
        "        self.self_attention = MultiHeadAttentionLayer(hid_dim, n_heads, \n",
        "                                                      dropout, device)\n",
        "        self.positionwise_feedforward = PositionwiseFeedforwardLayer(hid_dim, \n",
        "                                                                     pf_dim, \n",
        "                                                                     dropout)\n",
        "        self.dropout = nn.Dropout(dropout)\n",
        "        \n",
        "    def forward(self, src, src_mask):\n",
        "        \n",
        "        #src = [batch size, src len, hid dim]\n",
        "        #src_mask = [batch size, src len]\n",
        "                \n",
        "        #self attention\n",
        "        _src, _ = self.self_attention(src, src, src, src_mask)\n",
        "        \n",
        "        #dropout, residual connection and layer norm\n",
        "        src = self.layer_norm(src + self.dropout(_src))\n",
        "        \n",
        "        #src = [batch size, src len, hid dim]\n",
        "        \n",
        "        #positionwise feedforward\n",
        "        _src = self.positionwise_feedforward(src)\n",
        "        \n",
        "        #dropout, residual and layer norm\n",
        "        src = self.layer_norm(src + self.dropout(_src))\n",
        "        \n",
        "        #src = [batch size, src len, hid dim]\n",
        "        \n",
        "        return src"
      ],
      "execution_count": 0,
      "outputs": []
    },
    {
      "cell_type": "markdown",
      "metadata": {
        "id": "T7W8wdTSR0tH",
        "colab_type": "text"
      },
      "source": [
        "### Multi-Head Attention Layer\n",
        "Also, a key concepts introduction in the [Transformer paper](https://arxiv.org/abs/1706.03762) is the *Multi-Head Attention* layer. So, in summary, we will have the *encoder*, the *decoder*, the *attention layer* within our Transformer architecture. "
      ]
    },
    {
      "cell_type": "code",
      "metadata": {
        "id": "QqNcsRSnSGJd",
        "colab_type": "code",
        "colab": {}
      },
      "source": [
        "class MultiHeadAttentionLayer(nn.Module):\n",
        "    def __init__(self, hid_dim, n_heads, dropout, device):\n",
        "        super().__init__()\n",
        "        \n",
        "        assert hid_dim % n_heads == 0\n",
        "        \n",
        "        self.hid_dim = hid_dim\n",
        "        self.n_heads = n_heads\n",
        "        self.head_dim = hid_dim // n_heads\n",
        "        \n",
        "        self.fc_q = nn.Linear(hid_dim, hid_dim)\n",
        "        self.fc_k = nn.Linear(hid_dim, hid_dim)\n",
        "        self.fc_v = nn.Linear(hid_dim, hid_dim)\n",
        "        \n",
        "        self.fc_o = nn.Linear(hid_dim, hid_dim)\n",
        "        \n",
        "        self.dropout = nn.Dropout(dropout)\n",
        "        \n",
        "        self.scale = torch.sqrt(torch.FloatTensor([self.head_dim])).to(device)\n",
        "        \n",
        "    def forward(self, query, key, value, mask = None):\n",
        "        \n",
        "        batch_size = query.shape[0]\n",
        "        \n",
        "        #query = [batch size, query len, hid dim]\n",
        "        #key = [batch size, key len, hid dim]\n",
        "        #value = [batch size, value len, hid dim]\n",
        "                \n",
        "        Q = self.fc_q(query)\n",
        "        K = self.fc_k(key)\n",
        "        V = self.fc_v(value)\n",
        "        \n",
        "        #Q = [batch size, query len, hid dim]\n",
        "        #K = [batch size, key len, hid dim]\n",
        "        #V = [batch size, value len, hid dim]\n",
        "                \n",
        "        Q = Q.view(batch_size, -1, self.n_heads, self.head_dim).permute(0, 2, 1, 3)\n",
        "        K = K.view(batch_size, -1, self.n_heads, self.head_dim).permute(0, 2, 1, 3)\n",
        "        V = V.view(batch_size, -1, self.n_heads, self.head_dim).permute(0, 2, 1, 3)\n",
        "        \n",
        "        #Q = [batch size, n heads, query len, head dim]\n",
        "        #K = [batch size, n heads, key len, head dim]\n",
        "        #V = [batch size, n heads, value len, head dim]\n",
        "                \n",
        "        energy = torch.matmul(Q, K.permute(0, 1, 3, 2)) / self.scale\n",
        "        \n",
        "        #energy = [batch size, n heads, query len, key len]\n",
        "        \n",
        "        if mask is not None:\n",
        "            energy = energy.masked_fill(mask == 0, -1e10)\n",
        "        \n",
        "        attention = torch.softmax(energy, dim = -1)\n",
        "                \n",
        "        #attention = [batch size, n heads, query len, key len]\n",
        "                \n",
        "        x = torch.matmul(self.dropout(attention), V)\n",
        "        \n",
        "        #x = [batch size, n heads, query len, head dim]\n",
        "        \n",
        "        x = x.permute(0, 2, 1, 3).contiguous()\n",
        "        \n",
        "        #x = [batch size, query len, n heads, head dim]\n",
        "        \n",
        "        x = x.view(batch_size, -1, self.hid_dim)\n",
        "        \n",
        "        #x = [batch size, query len, hid dim]\n",
        "        \n",
        "        x = self.fc_o(x)\n",
        "        \n",
        "        #x = [batch size, query len, hid dim]\n",
        "        \n",
        "        return x, attention"
      ],
      "execution_count": 0,
      "outputs": []
    },
    {
      "cell_type": "markdown",
      "metadata": {
        "id": "HZ6jmLVpSiPD",
        "colab_type": "text"
      },
      "source": [
        "### Position-wise Feedforward Layer\n",
        "The Transformer has no reccurent layers and so does not have any notion of the order of the input tokens. A fixed and static *positional encoding* was used to *force* this knowledge in the original paper.\n",
        "\n",
        "But later implementations, including BERT, introduced *positional embedding* to solve this. Here we use a max vocab size of `100` i.e. we expect the source sentence not to contain more than 100 tokens.  "
      ]
    },
    {
      "cell_type": "code",
      "metadata": {
        "id": "hhu8VtA-T354",
        "colab_type": "code",
        "colab": {}
      },
      "source": [
        "class PositionwiseFeedforwardLayer(nn.Module):\n",
        "    def __init__(self, hid_dim, pf_dim, dropout):\n",
        "        super().__init__()\n",
        "        \n",
        "        self.fc_1 = nn.Linear(hid_dim, pf_dim)\n",
        "        self.fc_2 = nn.Linear(pf_dim, hid_dim)\n",
        "        \n",
        "        self.dropout = nn.Dropout(dropout)\n",
        "        \n",
        "    def forward(self, x):\n",
        "        \n",
        "        #x = [batch size, seq len, hid dim]\n",
        "        \n",
        "        x = self.dropout(torch.relu(self.fc_1(x)))\n",
        "        \n",
        "        #x = [batch size, seq len, pf dim]\n",
        "        \n",
        "        x = self.fc_2(x)\n",
        "        \n",
        "        #x = [batch size, seq len, hid dim]\n",
        "        \n",
        "        return x"
      ],
      "execution_count": 0,
      "outputs": []
    },
    {
      "cell_type": "markdown",
      "metadata": {
        "id": "9qpMij_rpi6Z",
        "colab_type": "text"
      },
      "source": [
        "### The `Decoder` and the `DecoderLayer`"
      ]
    },
    {
      "cell_type": "code",
      "metadata": {
        "id": "eBVfF_FNpi6a",
        "colab_type": "code",
        "colab": {}
      },
      "source": [
        "class Decoder(nn.Module):\n",
        "    def __init__(self, \n",
        "                 output_dim, \n",
        "                 hid_dim, \n",
        "                 n_layers, \n",
        "                 n_heads, \n",
        "                 pf_dim, \n",
        "                 dropout, \n",
        "                 device,\n",
        "                 max_length = 100):\n",
        "        super().__init__()\n",
        "        \n",
        "        self.device = device\n",
        "        \n",
        "        self.tok_embedding = nn.Embedding(output_dim, hid_dim)\n",
        "        self.pos_embedding = nn.Embedding(max_length, hid_dim)\n",
        "        \n",
        "        self.layers = nn.ModuleList([DecoderLayer(hid_dim, \n",
        "                                                  n_heads, \n",
        "                                                  pf_dim, \n",
        "                                                  dropout, \n",
        "                                                  device)\n",
        "                                     for _ in range(n_layers)])\n",
        "        \n",
        "        self.fc_out = nn.Linear(hid_dim, output_dim)\n",
        "        \n",
        "        self.dropout = nn.Dropout(dropout)\n",
        "        \n",
        "        self.scale = torch.sqrt(torch.FloatTensor([hid_dim])).to(device)\n",
        "        \n",
        "    def forward(self, trg, enc_src, trg_mask, src_mask):\n",
        "        \n",
        "        #trg = [batch size, trg len]\n",
        "        #enc_src = [batch size, src len, hid dim]\n",
        "        #trg_mask = [batch size, trg len]\n",
        "        #src_mask = [batch size, src len]\n",
        "                \n",
        "        batch_size = trg.shape[0]\n",
        "        trg_len = trg.shape[1]\n",
        "        \n",
        "        pos = torch.arange(0, trg_len).unsqueeze(0).repeat(batch_size, 1).to(self.device)\n",
        "                            \n",
        "        #pos = [batch size, trg len]\n",
        "            \n",
        "        trg = self.dropout((self.tok_embedding(trg) * self.scale) + self.pos_embedding(pos))\n",
        "                \n",
        "        #trg = [batch size, trg len, hid dim]\n",
        "        \n",
        "        for layer in self.layers:\n",
        "            trg, attention = layer(trg, enc_src, trg_mask, src_mask)\n",
        "        \n",
        "        #trg = [batch size, trg len, hid dim]\n",
        "        #attention = [batch size, n heads, trg len, src len]\n",
        "        \n",
        "        output = self.fc_out(trg)\n",
        "        \n",
        "        #output = [batch size, trg len, output dim]\n",
        "            \n",
        "        return output, attention"
      ],
      "execution_count": 0,
      "outputs": []
    },
    {
      "cell_type": "code",
      "metadata": {
        "id": "_nUbI5JKbOJJ",
        "colab_type": "code",
        "colab": {}
      },
      "source": [
        "class DecoderLayer(nn.Module):\n",
        "    def __init__(self, \n",
        "                 hid_dim, \n",
        "                 n_heads, \n",
        "                 pf_dim, \n",
        "                 dropout, \n",
        "                 device):\n",
        "        super().__init__()\n",
        "        \n",
        "        self.layer_norm = nn.LayerNorm(hid_dim)\n",
        "        self.self_attention = MultiHeadAttentionLayer(hid_dim, n_heads, dropout, device)\n",
        "        self.encoder_attention = MultiHeadAttentionLayer(hid_dim, n_heads, dropout, device)\n",
        "        self.positionwise_feedforward = PositionwiseFeedforwardLayer(hid_dim, \n",
        "                                                                     pf_dim, \n",
        "                                                                     dropout)\n",
        "        self.dropout = nn.Dropout(dropout)\n",
        "        \n",
        "    def forward(self, trg, enc_src, trg_mask, src_mask):\n",
        "        \n",
        "        #trg = [batch size, trg len, hid dim]\n",
        "        #enc_src = [batch size, src len, hid dim]\n",
        "        #trg_mask = [batch size, trg len]\n",
        "        #src_mask = [batch size, src len]\n",
        "        \n",
        "        #self attention\n",
        "        _trg, _ = self.self_attention(trg, trg, trg, trg_mask)\n",
        "        \n",
        "        #dropout, residual connection and layer norm\n",
        "        trg = self.layer_norm(trg + self.dropout(_trg))\n",
        "            \n",
        "        #trg = [batch size, trg len, hid dim]\n",
        "            \n",
        "        #encoder attention\n",
        "        _trg, attention = self.encoder_attention(trg, enc_src, enc_src, src_mask)\n",
        "        \n",
        "        #dropout, residual connection and layer norm\n",
        "        trg = self.layer_norm(trg + self.dropout(_trg))\n",
        "                    \n",
        "        #trg = [batch size, trg len, hid dim]\n",
        "        \n",
        "        #positionwise feedforward\n",
        "        _trg = self.positionwise_feedforward(trg)\n",
        "        \n",
        "        #dropout, residual and layer norm\n",
        "        trg = self.layer_norm(trg + self.dropout(_trg))\n",
        "        \n",
        "        #trg = [batch size, trg len, hid dim]\n",
        "        #attention = [batch size, n heads, trg len, src len]\n",
        "        \n",
        "        return trg, attention"
      ],
      "execution_count": 0,
      "outputs": []
    },
    {
      "cell_type": "markdown",
      "metadata": {
        "id": "QeCQ3IWNpi6j",
        "colab_type": "text"
      },
      "source": [
        "### The Transformer Seq2Seq Model"
      ]
    },
    {
      "cell_type": "code",
      "metadata": {
        "id": "4GYdi4-mpi6m",
        "colab_type": "code",
        "colab": {}
      },
      "source": [
        "class Seq2Seq(nn.Module):\n",
        "    def __init__(self, \n",
        "                 encoder, \n",
        "                 decoder, \n",
        "                 src_pad_idx, \n",
        "                 trg_pad_idx, \n",
        "                 device):\n",
        "        super().__init__()\n",
        "        \n",
        "        self.encoder = encoder\n",
        "        self.decoder = decoder\n",
        "        self.src_pad_idx = src_pad_idx\n",
        "        self.trg_pad_idx = trg_pad_idx\n",
        "        self.device = device\n",
        "        \n",
        "    def make_src_mask(self, src):\n",
        "        \n",
        "        #src = [batch size, src len]\n",
        "        \n",
        "        src_mask = (src != self.src_pad_idx).unsqueeze(1).unsqueeze(2)\n",
        "\n",
        "        #src_mask = [batch size, 1, 1, src len]\n",
        "\n",
        "        return src_mask\n",
        "    \n",
        "    def make_trg_mask(self, trg):\n",
        "        \n",
        "        #trg = [batch size, trg len]\n",
        "        \n",
        "        trg_pad_mask = (trg != self.trg_pad_idx).unsqueeze(1).unsqueeze(2)\n",
        "        \n",
        "        #trg_pad_mask = [batch size, 1, 1, trg len]\n",
        "        \n",
        "        trg_len = trg.shape[1]\n",
        "        \n",
        "        trg_sub_mask = torch.tril(torch.ones((trg_len, trg_len), device = self.device)).bool()\n",
        "        \n",
        "        #trg_sub_mask = [trg len, trg len]\n",
        "            \n",
        "        trg_mask = trg_pad_mask & trg_sub_mask\n",
        "        \n",
        "        #trg_mask = [batch size, 1, trg len, trg len]\n",
        "        \n",
        "        return trg_mask\n",
        "\n",
        "    def forward(self, src, trg):\n",
        "        \n",
        "        #src = [batch size, src len]\n",
        "        #trg = [batch size, trg len]\n",
        "                \n",
        "        src_mask = self.make_src_mask(src)\n",
        "        trg_mask = self.make_trg_mask(trg)\n",
        "        \n",
        "        #src_mask = [batch size, 1, 1, src len]\n",
        "        #trg_mask = [batch size, 1, trg len, trg len]\n",
        "        \n",
        "        enc_src = self.encoder(src, src_mask)\n",
        "        \n",
        "        #enc_src = [batch size, src len, hid dim]\n",
        "                \n",
        "        output, attention = self.decoder(trg, enc_src, trg_mask, src_mask)\n",
        "        \n",
        "        #output = [batch size, trg len, output dim]\n",
        "        #attention = [batch size, n heads, trg len, src len]\n",
        "        \n",
        "        return output, attention"
      ],
      "execution_count": 0,
      "outputs": []
    },
    {
      "cell_type": "markdown",
      "metadata": {
        "id": "Htd49tvXpi6u",
        "colab_type": "text"
      },
      "source": [
        "# Training and Testing the Transformer Seq2Seq Model\n",
        "\n",
        "Now we have our model implemented, we can begin training it. \n",
        "\n",
        "First, we'll initialize our model. As mentioned before, the input and output dimensions are defined by the size of the vocabulary. The embedding dimensions and dropout for the encoder and decoder can be different, but the number of layers and the size of the hidden/cell states must be the same. \n",
        "\n",
        "We then define the encoder, decoder and then our Seq2Seq model, which we place on the `device`."
      ]
    },
    {
      "cell_type": "code",
      "metadata": {
        "id": "1toWkEeKpi6v",
        "colab_type": "code",
        "colab": {}
      },
      "source": [
        "INPUT_DIM = len(SRC.vocab)\n",
        "OUTPUT_DIM = len(TRG.vocab)\n",
        "HID_DIM = 256\n",
        "ENC_LAYERS = 3\n",
        "DEC_LAYERS = 3\n",
        "ENC_HEADS = 8\n",
        "DEC_HEADS = 8\n",
        "ENC_PF_DIM = 512\n",
        "DEC_PF_DIM = 512\n",
        "ENC_DROPOUT = 0.3 #0.1\n",
        "DEC_DROPOUT = 0.3 #0.1\n",
        "\n",
        "enc = Encoder(INPUT_DIM, \n",
        "              HID_DIM, \n",
        "              ENC_LAYERS, \n",
        "              ENC_HEADS, \n",
        "              ENC_PF_DIM, \n",
        "              ENC_DROPOUT, \n",
        "              device)\n",
        "\n",
        "dec = Decoder(OUTPUT_DIM, \n",
        "              HID_DIM, \n",
        "              DEC_LAYERS, \n",
        "              DEC_HEADS, \n",
        "              DEC_PF_DIM, \n",
        "              DEC_DROPOUT, \n",
        "              device)"
      ],
      "execution_count": 0,
      "outputs": []
    },
    {
      "cell_type": "markdown",
      "metadata": {
        "id": "nXdVcPBsdh6J",
        "colab_type": "text"
      },
      "source": [
        "Let's string the encoder and decoder objects to define our Transformer based Seq2Seq model."
      ]
    },
    {
      "cell_type": "code",
      "metadata": {
        "id": "elBOFdy1d87f",
        "colab_type": "code",
        "colab": {}
      },
      "source": [
        "SRC_PAD_IDX = SRC.vocab.stoi[SRC.pad_token]\n",
        "TRG_PAD_IDX = TRG.vocab.stoi[TRG.pad_token]\n",
        "\n",
        "model = Seq2Seq(enc, dec, SRC_PAD_IDX, TRG_PAD_IDX, device).to(device)"
      ],
      "execution_count": 0,
      "outputs": []
    },
    {
      "cell_type": "markdown",
      "metadata": {
        "id": "CIUL19difjK6",
        "colab_type": "text"
      },
      "source": [
        "Check the number of parameters..."
      ]
    },
    {
      "cell_type": "code",
      "metadata": {
        "id": "YhExjVYSfdtF",
        "colab_type": "code",
        "outputId": "f7ef6644-73c7-4d78-b8e7-3025d6df5d50",
        "colab": {
          "base_uri": "https://localhost:8080/",
          "height": 35
        }
      },
      "source": [
        "def count_parameters(model):\n",
        "    return sum(p.numel() for p in model.parameters() if p.requires_grad)\n",
        "\n",
        "print(f'The model has {count_parameters(model):,} trainable parameters')"
      ],
      "execution_count": 22,
      "outputs": [
        {
          "output_type": "stream",
          "text": [
            "The model has 11,583,855 trainable parameters\n"
          ],
          "name": "stdout"
        }
      ]
    },
    {
      "cell_type": "markdown",
      "metadata": {
        "id": "SEs3zApKfvKL",
        "colab_type": "text"
      },
      "source": [
        "The Transformer paper does not mention which weight initialization scheme was used, however Xavier uniform seems to be common amongst Transformer models, so we use it here."
      ]
    },
    {
      "cell_type": "code",
      "metadata": {
        "id": "K6F_VabQpi63",
        "colab_type": "code",
        "outputId": "208470ea-f834-4e73-8e96-e5eb47213465",
        "colab": {
          "base_uri": "https://localhost:8080/",
          "height": 1000
        }
      },
      "source": [
        "def initialize_weights(m):\n",
        "    if hasattr(m, 'weight') and m.weight.dim() > 1:\n",
        "        nn.init.xavier_uniform_(m.weight.data)\n",
        "        \n",
        "model.apply(initialize_weights)"
      ],
      "execution_count": 23,
      "outputs": [
        {
          "output_type": "execute_result",
          "data": {
            "text/plain": [
              "Seq2Seq(\n",
              "  (encoder): Encoder(\n",
              "    (tok_embedding): Embedding(8881, 256)\n",
              "    (pos_embedding): Embedding(100, 256)\n",
              "    (layers): ModuleList(\n",
              "      (0): EncoderLayer(\n",
              "        (layer_norm): LayerNorm((256,), eps=1e-05, elementwise_affine=True)\n",
              "        (self_attention): MultiHeadAttentionLayer(\n",
              "          (fc_q): Linear(in_features=256, out_features=256, bias=True)\n",
              "          (fc_k): Linear(in_features=256, out_features=256, bias=True)\n",
              "          (fc_v): Linear(in_features=256, out_features=256, bias=True)\n",
              "          (fc_o): Linear(in_features=256, out_features=256, bias=True)\n",
              "          (dropout): Dropout(p=0.3, inplace=False)\n",
              "        )\n",
              "        (positionwise_feedforward): PositionwiseFeedforwardLayer(\n",
              "          (fc_1): Linear(in_features=256, out_features=512, bias=True)\n",
              "          (fc_2): Linear(in_features=512, out_features=256, bias=True)\n",
              "          (dropout): Dropout(p=0.3, inplace=False)\n",
              "        )\n",
              "        (dropout): Dropout(p=0.3, inplace=False)\n",
              "      )\n",
              "      (1): EncoderLayer(\n",
              "        (layer_norm): LayerNorm((256,), eps=1e-05, elementwise_affine=True)\n",
              "        (self_attention): MultiHeadAttentionLayer(\n",
              "          (fc_q): Linear(in_features=256, out_features=256, bias=True)\n",
              "          (fc_k): Linear(in_features=256, out_features=256, bias=True)\n",
              "          (fc_v): Linear(in_features=256, out_features=256, bias=True)\n",
              "          (fc_o): Linear(in_features=256, out_features=256, bias=True)\n",
              "          (dropout): Dropout(p=0.3, inplace=False)\n",
              "        )\n",
              "        (positionwise_feedforward): PositionwiseFeedforwardLayer(\n",
              "          (fc_1): Linear(in_features=256, out_features=512, bias=True)\n",
              "          (fc_2): Linear(in_features=512, out_features=256, bias=True)\n",
              "          (dropout): Dropout(p=0.3, inplace=False)\n",
              "        )\n",
              "        (dropout): Dropout(p=0.3, inplace=False)\n",
              "      )\n",
              "      (2): EncoderLayer(\n",
              "        (layer_norm): LayerNorm((256,), eps=1e-05, elementwise_affine=True)\n",
              "        (self_attention): MultiHeadAttentionLayer(\n",
              "          (fc_q): Linear(in_features=256, out_features=256, bias=True)\n",
              "          (fc_k): Linear(in_features=256, out_features=256, bias=True)\n",
              "          (fc_v): Linear(in_features=256, out_features=256, bias=True)\n",
              "          (fc_o): Linear(in_features=256, out_features=256, bias=True)\n",
              "          (dropout): Dropout(p=0.3, inplace=False)\n",
              "        )\n",
              "        (positionwise_feedforward): PositionwiseFeedforwardLayer(\n",
              "          (fc_1): Linear(in_features=256, out_features=512, bias=True)\n",
              "          (fc_2): Linear(in_features=512, out_features=256, bias=True)\n",
              "          (dropout): Dropout(p=0.3, inplace=False)\n",
              "        )\n",
              "        (dropout): Dropout(p=0.3, inplace=False)\n",
              "      )\n",
              "    )\n",
              "    (dropout): Dropout(p=0.3, inplace=False)\n",
              "  )\n",
              "  (decoder): Decoder(\n",
              "    (tok_embedding): Embedding(10351, 256)\n",
              "    (pos_embedding): Embedding(100, 256)\n",
              "    (layers): ModuleList(\n",
              "      (0): DecoderLayer(\n",
              "        (layer_norm): LayerNorm((256,), eps=1e-05, elementwise_affine=True)\n",
              "        (self_attention): MultiHeadAttentionLayer(\n",
              "          (fc_q): Linear(in_features=256, out_features=256, bias=True)\n",
              "          (fc_k): Linear(in_features=256, out_features=256, bias=True)\n",
              "          (fc_v): Linear(in_features=256, out_features=256, bias=True)\n",
              "          (fc_o): Linear(in_features=256, out_features=256, bias=True)\n",
              "          (dropout): Dropout(p=0.3, inplace=False)\n",
              "        )\n",
              "        (encoder_attention): MultiHeadAttentionLayer(\n",
              "          (fc_q): Linear(in_features=256, out_features=256, bias=True)\n",
              "          (fc_k): Linear(in_features=256, out_features=256, bias=True)\n",
              "          (fc_v): Linear(in_features=256, out_features=256, bias=True)\n",
              "          (fc_o): Linear(in_features=256, out_features=256, bias=True)\n",
              "          (dropout): Dropout(p=0.3, inplace=False)\n",
              "        )\n",
              "        (positionwise_feedforward): PositionwiseFeedforwardLayer(\n",
              "          (fc_1): Linear(in_features=256, out_features=512, bias=True)\n",
              "          (fc_2): Linear(in_features=512, out_features=256, bias=True)\n",
              "          (dropout): Dropout(p=0.3, inplace=False)\n",
              "        )\n",
              "        (dropout): Dropout(p=0.3, inplace=False)\n",
              "      )\n",
              "      (1): DecoderLayer(\n",
              "        (layer_norm): LayerNorm((256,), eps=1e-05, elementwise_affine=True)\n",
              "        (self_attention): MultiHeadAttentionLayer(\n",
              "          (fc_q): Linear(in_features=256, out_features=256, bias=True)\n",
              "          (fc_k): Linear(in_features=256, out_features=256, bias=True)\n",
              "          (fc_v): Linear(in_features=256, out_features=256, bias=True)\n",
              "          (fc_o): Linear(in_features=256, out_features=256, bias=True)\n",
              "          (dropout): Dropout(p=0.3, inplace=False)\n",
              "        )\n",
              "        (encoder_attention): MultiHeadAttentionLayer(\n",
              "          (fc_q): Linear(in_features=256, out_features=256, bias=True)\n",
              "          (fc_k): Linear(in_features=256, out_features=256, bias=True)\n",
              "          (fc_v): Linear(in_features=256, out_features=256, bias=True)\n",
              "          (fc_o): Linear(in_features=256, out_features=256, bias=True)\n",
              "          (dropout): Dropout(p=0.3, inplace=False)\n",
              "        )\n",
              "        (positionwise_feedforward): PositionwiseFeedforwardLayer(\n",
              "          (fc_1): Linear(in_features=256, out_features=512, bias=True)\n",
              "          (fc_2): Linear(in_features=512, out_features=256, bias=True)\n",
              "          (dropout): Dropout(p=0.3, inplace=False)\n",
              "        )\n",
              "        (dropout): Dropout(p=0.3, inplace=False)\n",
              "      )\n",
              "      (2): DecoderLayer(\n",
              "        (layer_norm): LayerNorm((256,), eps=1e-05, elementwise_affine=True)\n",
              "        (self_attention): MultiHeadAttentionLayer(\n",
              "          (fc_q): Linear(in_features=256, out_features=256, bias=True)\n",
              "          (fc_k): Linear(in_features=256, out_features=256, bias=True)\n",
              "          (fc_v): Linear(in_features=256, out_features=256, bias=True)\n",
              "          (fc_o): Linear(in_features=256, out_features=256, bias=True)\n",
              "          (dropout): Dropout(p=0.3, inplace=False)\n",
              "        )\n",
              "        (encoder_attention): MultiHeadAttentionLayer(\n",
              "          (fc_q): Linear(in_features=256, out_features=256, bias=True)\n",
              "          (fc_k): Linear(in_features=256, out_features=256, bias=True)\n",
              "          (fc_v): Linear(in_features=256, out_features=256, bias=True)\n",
              "          (fc_o): Linear(in_features=256, out_features=256, bias=True)\n",
              "          (dropout): Dropout(p=0.3, inplace=False)\n",
              "        )\n",
              "        (positionwise_feedforward): PositionwiseFeedforwardLayer(\n",
              "          (fc_1): Linear(in_features=256, out_features=512, bias=True)\n",
              "          (fc_2): Linear(in_features=512, out_features=256, bias=True)\n",
              "          (dropout): Dropout(p=0.3, inplace=False)\n",
              "        )\n",
              "        (dropout): Dropout(p=0.3, inplace=False)\n",
              "      )\n",
              "    )\n",
              "    (fc_out): Linear(in_features=256, out_features=10351, bias=True)\n",
              "    (dropout): Dropout(p=0.3, inplace=False)\n",
              "  )\n",
              ")"
            ]
          },
          "metadata": {
            "tags": []
          },
          "execution_count": 23
        }
      ]
    },
    {
      "cell_type": "markdown",
      "metadata": {
        "id": "Y14YPVJbpi7A",
        "colab_type": "text"
      },
      "source": [
        "The optimizer used in the original Transformer paper uses Adam with a learning rate that has a \"warm-up\" and then a \"cool-down\" period. BERT and other Transformer models use Adam with a fixed learning rate, so we will implement that. Check [this](http://nlp.seas.harvard.edu/2018/04/03/attention.html#optimizer) link for more details about the original Transformer's learning rate schedule.\n",
        "\n",
        "Note that the learning rate needs to be lower than the default used by Adam or else learning is unstable."
      ]
    },
    {
      "cell_type": "code",
      "metadata": {
        "id": "uOnGRFKApi7J",
        "colab_type": "code",
        "colab": {}
      },
      "source": [
        "LEARNING_RATE = 0.0005\n",
        "\n",
        "optimizer = torch.optim.Adam(model.parameters(), lr = LEARNING_RATE)"
      ],
      "execution_count": 0,
      "outputs": []
    },
    {
      "cell_type": "markdown",
      "metadata": {
        "id": "KaFiPKBnpi7P",
        "colab_type": "text"
      },
      "source": [
        "Next, we define our loss function. The `CrossEntropyLoss` function calculates both the log softmax as well as the negative log-likelihood of our predictions. \n",
        "\n",
        "Our loss function calculates the average loss per token, however by passing the index of the `<pad>` token as the `ignore_index` argument we ignore the loss whenever the target token is a padding token. "
      ]
    },
    {
      "cell_type": "code",
      "metadata": {
        "id": "QbVgiwRypi7R",
        "colab_type": "code",
        "colab": {}
      },
      "source": [
        "criterion = nn.CrossEntropyLoss(ignore_index = TRG_PAD_IDX)"
      ],
      "execution_count": 0,
      "outputs": []
    },
    {
      "cell_type": "markdown",
      "metadata": {
        "id": "j5nKm8g3pi7W",
        "colab_type": "text"
      },
      "source": [
        "Then, we'll define our training loop. This is the exact same as the one used in the previous tutorial.\n",
        "\n",
        "As we want our model to predict the `<eos>` token but not have it be an input into our model we simply slice the `<eos>` token off the end of the sequence. Thus:\n",
        "\n",
        "$$\\begin{align*}\n",
        "\\text{trg} &= [sos, x_1, x_2, x_3, eos]\\\\\n",
        "\\text{trg[:-1]} &= [sos, x_1, x_2, x_3]\n",
        "\\end{align*}$$\n",
        "\n",
        "$x_i$ denotes actual target sequence element. We then feed this into the model to get a predicted sequence that should hopefully predict the `<eos>` token:\n",
        "\n",
        "$$\\begin{align*}\n",
        "\\text{output} &= [y_1, y_2, y_3, eos]\n",
        "\\end{align*}$$\n",
        "\n",
        "$y_i$ denotes predicted target sequence element. We then calculate our loss using the original `trg` tensor with the `<sos>` token sliced off the front, leaving the `<eos>` token:\n",
        "\n",
        "$$\\begin{align*}\n",
        "\\text{output} &= [y_1, y_2, y_3, eos]\\\\\n",
        "\\text{trg[1:]} &= [x_1, x_2, x_3, eos]\n",
        "\\end{align*}$$\n",
        "\n",
        "We then calculate our losses and update our parameters as is standard."
      ]
    },
    {
      "cell_type": "code",
      "metadata": {
        "id": "QaqqHagbpi7Y",
        "colab_type": "code",
        "colab": {}
      },
      "source": [
        "def train(model, iterator, optimizer, criterion, clip):\n",
        "    \n",
        "    model.train()\n",
        "    \n",
        "    epoch_loss = 0\n",
        "    \n",
        "    for i, batch in enumerate(iterator):\n",
        "        \n",
        "        src = batch.src\n",
        "        trg = batch.trg\n",
        "        \n",
        "        optimizer.zero_grad()\n",
        "        \n",
        "        output, _ = model(src, trg[:,:-1])\n",
        "                \n",
        "        #output = [batch size, trg len - 1, output dim]\n",
        "        #trg = [batch size, trg len]\n",
        "            \n",
        "        output_dim = output.shape[-1]\n",
        "            \n",
        "        output = output.contiguous().view(-1, output_dim)\n",
        "        trg = trg[:,1:].contiguous().view(-1)\n",
        "                \n",
        "        #output = [batch size * trg len - 1, output dim]\n",
        "        #trg = [batch size * trg len - 1]\n",
        "            \n",
        "        loss = criterion(output, trg)\n",
        "        \n",
        "        loss.backward()\n",
        "        \n",
        "        torch.nn.utils.clip_grad_norm_(model.parameters(), clip)\n",
        "        \n",
        "        optimizer.step()\n",
        "        \n",
        "        epoch_loss += loss.item()\n",
        "        \n",
        "    return epoch_loss / len(iterator)"
      ],
      "execution_count": 0,
      "outputs": []
    },
    {
      "cell_type": "markdown",
      "metadata": {
        "id": "LQND9PzYpi7f",
        "colab_type": "text"
      },
      "source": [
        "Our evaluation loop is similar to our training loop, however as we aren't updating any parameters we don't need to pass an optimizer or a clip value.\n",
        "\n",
        "We must remember to set the model to evaluation mode with `model.eval()`. This will turn off dropout (and batch normalization, if used).\n",
        "\n",
        "We use the `with torch.no_grad()` block to ensure no gradients are calculated within the block. This reduces memory consumption and speeds things up. \n",
        "\n",
        "The iteration loop is similar (without the parameter updates), however we must ensure we turn teacher forcing off for evaluation. This will cause the model to only use it's own predictions to make further predictions within a sentence, which mirrors how it would be used in deployment."
      ]
    },
    {
      "cell_type": "code",
      "metadata": {
        "id": "vbt2p7tLpi7j",
        "colab_type": "code",
        "colab": {}
      },
      "source": [
        "def evaluate(model, iterator, criterion):\n",
        "    \n",
        "    model.eval()\n",
        "    \n",
        "    epoch_loss = 0\n",
        "    \n",
        "    with torch.no_grad():\n",
        "    \n",
        "        for i, batch in enumerate(iterator):\n",
        "\n",
        "            src = batch.src\n",
        "            trg = batch.trg\n",
        "\n",
        "            output, _ = model(src, trg[:,:-1])\n",
        "            \n",
        "            #output = [batch size, trg len - 1, output dim]\n",
        "            #trg = [batch size, trg len]\n",
        "            \n",
        "            output_dim = output.shape[-1]\n",
        "            \n",
        "            output = output.contiguous().view(-1, output_dim)\n",
        "            trg = trg[:,1:].contiguous().view(-1)\n",
        "            \n",
        "            #output = [batch size * trg len - 1, output dim]\n",
        "            #trg = [batch size * trg len - 1]\n",
        "            \n",
        "            loss = criterion(output, trg)\n",
        "\n",
        "            epoch_loss += loss.item()\n",
        "        \n",
        "    return epoch_loss / len(iterator)"
      ],
      "execution_count": 0,
      "outputs": []
    },
    {
      "cell_type": "markdown",
      "metadata": {
        "id": "VG5KSIgapi7s",
        "colab_type": "text"
      },
      "source": [
        "Next, we'll create a function that we'll use to tell us how long an epoch takes."
      ]
    },
    {
      "cell_type": "code",
      "metadata": {
        "id": "LEeAmqQkpi7t",
        "colab_type": "code",
        "colab": {}
      },
      "source": [
        "def epoch_time(start_time, end_time):\n",
        "    elapsed_time = end_time - start_time\n",
        "    elapsed_mins = int(elapsed_time / 60)\n",
        "    elapsed_secs = int(elapsed_time - (elapsed_mins * 60))\n",
        "    return elapsed_mins, elapsed_secs"
      ],
      "execution_count": 0,
      "outputs": []
    },
    {
      "cell_type": "markdown",
      "metadata": {
        "id": "8XAH3gE_pi71",
        "colab_type": "text"
      },
      "source": [
        "We can finally start training our model!\n",
        "\n",
        "At each epoch, we'll be checking if our model has achieved the best validation loss so far. If it has, we'll update our best validation loss and save the parameters of our model (called `state_dict` in PyTorch). Then, when we come to test our model, we'll use the saved parameters used to achieve the best validation loss. \n",
        "\n",
        "We'll be printing out both the loss and the perplexity at each epoch. It is easier to see a change in perplexity than a change in loss as the numbers are much bigger."
      ]
    },
    {
      "cell_type": "code",
      "metadata": {
        "id": "Hd3234ZRpi72",
        "colab_type": "code",
        "outputId": "521a1424-5866-44d1-c58b-f8105c73e3a2",
        "colab": {
          "base_uri": "https://localhost:8080/",
          "height": 1000
        }
      },
      "source": [
        "N_EPOCHS = 100\n",
        "CLIP = 1\n",
        "\n",
        "best_valid_loss = float('inf')\n",
        "\n",
        "print(f'-----------<Training started>-----------')\n",
        "\n",
        "for epoch in range(N_EPOCHS):\n",
        "    \n",
        "    start_time = time.time()\n",
        "    \n",
        "    train_loss = train(model, train_iterator, optimizer, criterion, CLIP)\n",
        "    valid_loss = evaluate(model, validate_iterator, criterion)\n",
        "    \n",
        "    end_time = time.time()\n",
        "    \n",
        "    epoch_mins, epoch_secs = epoch_time(start_time, end_time)\n",
        "    \n",
        "    if valid_loss < best_valid_loss:\n",
        "        best_valid_loss = valid_loss\n",
        "        torch.save(model.state_dict(), 'igen-transformer-model.pt')\n",
        "\n",
        "    # torch.save(model.state_dict(), 'igen-transformer-model.pt')\n",
        "    \n",
        "    print(f'Epoch: {epoch+1:02} | Time: {epoch_mins}m {epoch_secs}s')\n",
        "    print(f'\\tTrain Loss: {train_loss:.3f} | Train PPL: {math.exp(train_loss):7.3f}')\n",
        "    print(f'\\t Val. Loss: {valid_loss:.3f} |  Val. PPL: {math.exp(valid_loss):7.3f}')\n",
        "print(f'-----------<Training ended>-----------')"
      ],
      "execution_count": 29,
      "outputs": [
        {
          "output_type": "stream",
          "text": [
            "-----------<Training started>-----------\n",
            "Epoch: 01 | Time: 0m 14s\n",
            "\tTrain Loss: 7.075 | Train PPL: 1181.539\n",
            "\t Val. Loss: 6.123 |  Val. PPL: 456.297\n",
            "Epoch: 02 | Time: 0m 13s\n",
            "\tTrain Loss: 6.371 | Train PPL: 584.706\n",
            "\t Val. Loss: 5.898 |  Val. PPL: 364.311\n",
            "Epoch: 03 | Time: 0m 14s\n",
            "\tTrain Loss: 5.852 | Train PPL: 347.943\n",
            "\t Val. Loss: 5.655 |  Val. PPL: 285.837\n",
            "Epoch: 04 | Time: 0m 14s\n",
            "\tTrain Loss: 5.461 | Train PPL: 235.290\n",
            "\t Val. Loss: 5.620 |  Val. PPL: 275.929\n",
            "Epoch: 05 | Time: 0m 14s\n",
            "\tTrain Loss: 5.163 | Train PPL: 174.701\n",
            "\t Val. Loss: 5.583 |  Val. PPL: 265.896\n",
            "Epoch: 06 | Time: 0m 14s\n",
            "\tTrain Loss: 4.914 | Train PPL: 136.169\n",
            "\t Val. Loss: 5.592 |  Val. PPL: 268.336\n",
            "Epoch: 07 | Time: 0m 14s\n",
            "\tTrain Loss: 4.689 | Train PPL: 108.740\n",
            "\t Val. Loss: 5.676 |  Val. PPL: 291.870\n",
            "Epoch: 08 | Time: 0m 15s\n",
            "\tTrain Loss: 4.472 | Train PPL:  87.525\n",
            "\t Val. Loss: 5.713 |  Val. PPL: 302.658\n",
            "Epoch: 09 | Time: 0m 15s\n",
            "\tTrain Loss: 4.271 | Train PPL:  71.596\n",
            "\t Val. Loss: 5.781 |  Val. PPL: 324.114\n",
            "Epoch: 10 | Time: 0m 14s\n",
            "\tTrain Loss: 4.077 | Train PPL:  58.986\n",
            "\t Val. Loss: 5.803 |  Val. PPL: 331.305\n",
            "Epoch: 11 | Time: 0m 15s\n",
            "\tTrain Loss: 3.905 | Train PPL:  49.638\n",
            "\t Val. Loss: 5.903 |  Val. PPL: 366.296\n",
            "Epoch: 12 | Time: 0m 15s\n",
            "\tTrain Loss: 3.740 | Train PPL:  42.091\n",
            "\t Val. Loss: 5.932 |  Val. PPL: 376.796\n",
            "Epoch: 13 | Time: 0m 15s\n",
            "\tTrain Loss: 3.589 | Train PPL:  36.181\n",
            "\t Val. Loss: 6.010 |  Val. PPL: 407.296\n",
            "Epoch: 14 | Time: 0m 15s\n",
            "\tTrain Loss: 3.437 | Train PPL:  31.096\n",
            "\t Val. Loss: 6.091 |  Val. PPL: 442.003\n",
            "Epoch: 15 | Time: 0m 15s\n",
            "\tTrain Loss: 3.299 | Train PPL:  27.072\n",
            "\t Val. Loss: 6.087 |  Val. PPL: 440.254\n",
            "Epoch: 16 | Time: 0m 15s\n",
            "\tTrain Loss: 3.167 | Train PPL:  23.737\n",
            "\t Val. Loss: 6.302 |  Val. PPL: 545.892\n",
            "Epoch: 17 | Time: 0m 15s\n",
            "\tTrain Loss: 3.045 | Train PPL:  21.006\n",
            "\t Val. Loss: 6.330 |  Val. PPL: 561.174\n",
            "Epoch: 18 | Time: 0m 15s\n",
            "\tTrain Loss: 2.921 | Train PPL:  18.562\n",
            "\t Val. Loss: 6.376 |  Val. PPL: 587.769\n",
            "Epoch: 19 | Time: 0m 15s\n",
            "\tTrain Loss: 2.815 | Train PPL:  16.696\n",
            "\t Val. Loss: 6.420 |  Val. PPL: 613.769\n",
            "Epoch: 20 | Time: 0m 15s\n",
            "\tTrain Loss: 2.710 | Train PPL:  15.035\n",
            "\t Val. Loss: 6.537 |  Val. PPL: 690.286\n",
            "Epoch: 21 | Time: 0m 15s\n",
            "\tTrain Loss: 2.596 | Train PPL:  13.413\n",
            "\t Val. Loss: 6.570 |  Val. PPL: 713.073\n",
            "Epoch: 22 | Time: 0m 15s\n",
            "\tTrain Loss: 2.503 | Train PPL:  12.218\n",
            "\t Val. Loss: 6.644 |  Val. PPL: 768.138\n",
            "Epoch: 23 | Time: 0m 15s\n",
            "\tTrain Loss: 2.414 | Train PPL:  11.176\n",
            "\t Val. Loss: 6.710 |  Val. PPL: 820.800\n",
            "Epoch: 24 | Time: 0m 15s\n",
            "\tTrain Loss: 2.321 | Train PPL:  10.187\n",
            "\t Val. Loss: 6.858 |  Val. PPL: 951.031\n",
            "Epoch: 25 | Time: 0m 15s\n",
            "\tTrain Loss: 2.238 | Train PPL:   9.376\n",
            "\t Val. Loss: 6.880 |  Val. PPL: 972.819\n",
            "Epoch: 26 | Time: 0m 15s\n",
            "\tTrain Loss: 2.163 | Train PPL:   8.698\n",
            "\t Val. Loss: 6.942 |  Val. PPL: 1034.596\n",
            "Epoch: 27 | Time: 0m 15s\n",
            "\tTrain Loss: 2.079 | Train PPL:   8.000\n",
            "\t Val. Loss: 7.085 |  Val. PPL: 1194.179\n",
            "Epoch: 28 | Time: 0m 15s\n",
            "\tTrain Loss: 2.013 | Train PPL:   7.485\n",
            "\t Val. Loss: 7.151 |  Val. PPL: 1274.881\n",
            "Epoch: 29 | Time: 0m 15s\n",
            "\tTrain Loss: 1.941 | Train PPL:   6.964\n",
            "\t Val. Loss: 7.191 |  Val. PPL: 1327.513\n",
            "Epoch: 30 | Time: 0m 15s\n",
            "\tTrain Loss: 1.875 | Train PPL:   6.523\n",
            "\t Val. Loss: 7.316 |  Val. PPL: 1504.373\n",
            "Epoch: 31 | Time: 0m 15s\n",
            "\tTrain Loss: 1.811 | Train PPL:   6.119\n",
            "\t Val. Loss: 7.422 |  Val. PPL: 1671.851\n",
            "Epoch: 32 | Time: 0m 15s\n",
            "\tTrain Loss: 1.754 | Train PPL:   5.780\n",
            "\t Val. Loss: 7.459 |  Val. PPL: 1734.802\n",
            "Epoch: 33 | Time: 0m 15s\n",
            "\tTrain Loss: 1.700 | Train PPL:   5.475\n",
            "\t Val. Loss: 7.546 |  Val. PPL: 1892.347\n",
            "Epoch: 34 | Time: 0m 15s\n",
            "\tTrain Loss: 1.639 | Train PPL:   5.152\n",
            "\t Val. Loss: 7.581 |  Val. PPL: 1959.978\n",
            "Epoch: 35 | Time: 0m 15s\n",
            "\tTrain Loss: 1.598 | Train PPL:   4.945\n",
            "\t Val. Loss: 7.690 |  Val. PPL: 2186.737\n",
            "Epoch: 36 | Time: 0m 15s\n",
            "\tTrain Loss: 1.545 | Train PPL:   4.689\n",
            "\t Val. Loss: 7.744 |  Val. PPL: 2308.030\n",
            "Epoch: 37 | Time: 0m 15s\n",
            "\tTrain Loss: 1.500 | Train PPL:   4.480\n",
            "\t Val. Loss: 7.770 |  Val. PPL: 2367.929\n",
            "Epoch: 38 | Time: 0m 15s\n",
            "\tTrain Loss: 1.457 | Train PPL:   4.292\n",
            "\t Val. Loss: 7.847 |  Val. PPL: 2557.842\n",
            "Epoch: 39 | Time: 0m 15s\n",
            "\tTrain Loss: 1.411 | Train PPL:   4.098\n",
            "\t Val. Loss: 7.949 |  Val. PPL: 2833.685\n",
            "Epoch: 40 | Time: 0m 15s\n",
            "\tTrain Loss: 1.377 | Train PPL:   3.964\n",
            "\t Val. Loss: 8.023 |  Val. PPL: 3049.016\n",
            "Epoch: 41 | Time: 0m 15s\n",
            "\tTrain Loss: 1.341 | Train PPL:   3.824\n",
            "\t Val. Loss: 8.123 |  Val. PPL: 3371.017\n",
            "Epoch: 42 | Time: 0m 15s\n",
            "\tTrain Loss: 1.302 | Train PPL:   3.675\n",
            "\t Val. Loss: 8.186 |  Val. PPL: 3589.230\n",
            "Epoch: 43 | Time: 0m 15s\n",
            "\tTrain Loss: 1.270 | Train PPL:   3.562\n",
            "\t Val. Loss: 8.191 |  Val. PPL: 3606.704\n",
            "Epoch: 44 | Time: 0m 15s\n",
            "\tTrain Loss: 1.233 | Train PPL:   3.433\n",
            "\t Val. Loss: 8.267 |  Val. PPL: 3894.053\n",
            "Epoch: 45 | Time: 0m 15s\n",
            "\tTrain Loss: 1.206 | Train PPL:   3.340\n",
            "\t Val. Loss: 8.336 |  Val. PPL: 4172.408\n",
            "Epoch: 46 | Time: 0m 15s\n",
            "\tTrain Loss: 1.172 | Train PPL:   3.227\n",
            "\t Val. Loss: 8.410 |  Val. PPL: 4493.311\n",
            "Epoch: 47 | Time: 0m 15s\n",
            "\tTrain Loss: 1.144 | Train PPL:   3.140\n",
            "\t Val. Loss: 8.452 |  Val. PPL: 4683.953\n",
            "Epoch: 48 | Time: 0m 15s\n",
            "\tTrain Loss: 1.116 | Train PPL:   3.052\n",
            "\t Val. Loss: 8.529 |  Val. PPL: 5059.197\n",
            "Epoch: 49 | Time: 0m 15s\n",
            "\tTrain Loss: 1.095 | Train PPL:   2.989\n",
            "\t Val. Loss: 8.626 |  Val. PPL: 5573.597\n",
            "Epoch: 50 | Time: 0m 15s\n",
            "\tTrain Loss: 1.070 | Train PPL:   2.914\n",
            "\t Val. Loss: 8.617 |  Val. PPL: 5522.512\n",
            "Epoch: 51 | Time: 0m 15s\n",
            "\tTrain Loss: 1.046 | Train PPL:   2.847\n",
            "\t Val. Loss: 8.668 |  Val. PPL: 5812.270\n",
            "Epoch: 52 | Time: 0m 15s\n",
            "\tTrain Loss: 1.021 | Train PPL:   2.776\n",
            "\t Val. Loss: 8.779 |  Val. PPL: 6496.999\n",
            "Epoch: 53 | Time: 0m 15s\n",
            "\tTrain Loss: 0.997 | Train PPL:   2.710\n",
            "\t Val. Loss: 8.721 |  Val. PPL: 6127.534\n",
            "Epoch: 54 | Time: 0m 15s\n",
            "\tTrain Loss: 0.981 | Train PPL:   2.667\n",
            "\t Val. Loss: 8.899 |  Val. PPL: 7322.394\n",
            "Epoch: 55 | Time: 0m 15s\n",
            "\tTrain Loss: 0.959 | Train PPL:   2.608\n",
            "\t Val. Loss: 8.896 |  Val. PPL: 7299.664\n",
            "Epoch: 56 | Time: 0m 15s\n",
            "\tTrain Loss: 0.942 | Train PPL:   2.564\n",
            "\t Val. Loss: 8.965 |  Val. PPL: 7823.752\n",
            "Epoch: 57 | Time: 0m 15s\n",
            "\tTrain Loss: 0.923 | Train PPL:   2.518\n",
            "\t Val. Loss: 9.049 |  Val. PPL: 8513.736\n",
            "Epoch: 58 | Time: 0m 15s\n",
            "\tTrain Loss: 0.902 | Train PPL:   2.466\n",
            "\t Val. Loss: 9.111 |  Val. PPL: 9052.515\n",
            "Epoch: 59 | Time: 0m 15s\n",
            "\tTrain Loss: 0.885 | Train PPL:   2.424\n",
            "\t Val. Loss: 9.162 |  Val. PPL: 9526.351\n",
            "Epoch: 60 | Time: 0m 15s\n",
            "\tTrain Loss: 0.873 | Train PPL:   2.394\n",
            "\t Val. Loss: 9.162 |  Val. PPL: 9526.506\n",
            "Epoch: 61 | Time: 0m 15s\n",
            "\tTrain Loss: 0.850 | Train PPL:   2.339\n",
            "\t Val. Loss: 9.186 |  Val. PPL: 9764.035\n",
            "Epoch: 62 | Time: 0m 15s\n",
            "\tTrain Loss: 0.842 | Train PPL:   2.322\n",
            "\t Val. Loss: 9.277 |  Val. PPL: 10691.543\n",
            "Epoch: 63 | Time: 0m 15s\n",
            "\tTrain Loss: 0.823 | Train PPL:   2.277\n",
            "\t Val. Loss: 9.274 |  Val. PPL: 10655.057\n",
            "Epoch: 64 | Time: 0m 15s\n",
            "\tTrain Loss: 0.810 | Train PPL:   2.248\n",
            "\t Val. Loss: 9.349 |  Val. PPL: 11491.581\n",
            "Epoch: 65 | Time: 0m 15s\n",
            "\tTrain Loss: 0.797 | Train PPL:   2.218\n",
            "\t Val. Loss: 9.341 |  Val. PPL: 11392.251\n",
            "Epoch: 66 | Time: 0m 15s\n",
            "\tTrain Loss: 0.784 | Train PPL:   2.191\n",
            "\t Val. Loss: 9.433 |  Val. PPL: 12490.653\n",
            "Epoch: 67 | Time: 0m 15s\n",
            "\tTrain Loss: 0.771 | Train PPL:   2.162\n",
            "\t Val. Loss: 9.410 |  Val. PPL: 12204.450\n",
            "Epoch: 68 | Time: 0m 15s\n",
            "\tTrain Loss: 0.760 | Train PPL:   2.138\n",
            "\t Val. Loss: 9.597 |  Val. PPL: 14719.488\n",
            "Epoch: 69 | Time: 0m 15s\n",
            "\tTrain Loss: 0.750 | Train PPL:   2.117\n",
            "\t Val. Loss: 9.570 |  Val. PPL: 14322.968\n",
            "Epoch: 70 | Time: 0m 15s\n",
            "\tTrain Loss: 0.740 | Train PPL:   2.095\n",
            "\t Val. Loss: 9.606 |  Val. PPL: 14852.014\n",
            "Epoch: 71 | Time: 0m 15s\n",
            "\tTrain Loss: 0.724 | Train PPL:   2.063\n",
            "\t Val. Loss: 9.602 |  Val. PPL: 14799.855\n",
            "Epoch: 72 | Time: 0m 15s\n",
            "\tTrain Loss: 0.721 | Train PPL:   2.056\n",
            "\t Val. Loss: 9.701 |  Val. PPL: 16326.157\n",
            "Epoch: 73 | Time: 0m 15s\n",
            "\tTrain Loss: 0.711 | Train PPL:   2.037\n",
            "\t Val. Loss: 9.770 |  Val. PPL: 17507.311\n",
            "Epoch: 74 | Time: 0m 15s\n",
            "\tTrain Loss: 0.699 | Train PPL:   2.013\n",
            "\t Val. Loss: 9.852 |  Val. PPL: 18989.069\n",
            "Epoch: 75 | Time: 0m 15s\n",
            "\tTrain Loss: 0.687 | Train PPL:   1.988\n",
            "\t Val. Loss: 9.774 |  Val. PPL: 17576.335\n",
            "Epoch: 76 | Time: 0m 15s\n",
            "\tTrain Loss: 0.682 | Train PPL:   1.978\n",
            "\t Val. Loss: 9.870 |  Val. PPL: 19346.142\n",
            "Epoch: 77 | Time: 0m 15s\n",
            "\tTrain Loss: 0.670 | Train PPL:   1.955\n",
            "\t Val. Loss: 9.850 |  Val. PPL: 18964.510\n",
            "Epoch: 78 | Time: 0m 15s\n",
            "\tTrain Loss: 0.656 | Train PPL:   1.927\n",
            "\t Val. Loss: 9.912 |  Val. PPL: 20167.084\n",
            "Epoch: 79 | Time: 0m 15s\n",
            "\tTrain Loss: 0.651 | Train PPL:   1.918\n",
            "\t Val. Loss: 10.034 |  Val. PPL: 22779.853\n",
            "Epoch: 80 | Time: 0m 15s\n",
            "\tTrain Loss: 0.642 | Train PPL:   1.901\n",
            "\t Val. Loss: 10.026 |  Val. PPL: 22616.293\n",
            "Epoch: 81 | Time: 0m 15s\n",
            "\tTrain Loss: 0.635 | Train PPL:   1.888\n",
            "\t Val. Loss: 10.045 |  Val. PPL: 23045.111\n",
            "Epoch: 82 | Time: 0m 15s\n",
            "\tTrain Loss: 0.630 | Train PPL:   1.878\n",
            "\t Val. Loss: 10.147 |  Val. PPL: 25518.431\n",
            "Epoch: 83 | Time: 0m 15s\n",
            "\tTrain Loss: 0.623 | Train PPL:   1.864\n",
            "\t Val. Loss: 10.189 |  Val. PPL: 26617.937\n",
            "Epoch: 84 | Time: 0m 15s\n",
            "\tTrain Loss: 0.617 | Train PPL:   1.854\n",
            "\t Val. Loss: 10.149 |  Val. PPL: 25562.213\n",
            "Epoch: 85 | Time: 0m 15s\n",
            "\tTrain Loss: 0.607 | Train PPL:   1.836\n",
            "\t Val. Loss: 10.142 |  Val. PPL: 25396.445\n",
            "Epoch: 86 | Time: 0m 15s\n",
            "\tTrain Loss: 0.600 | Train PPL:   1.822\n",
            "\t Val. Loss: 10.096 |  Val. PPL: 24246.079\n",
            "Epoch: 87 | Time: 0m 15s\n",
            "\tTrain Loss: 0.593 | Train PPL:   1.809\n",
            "\t Val. Loss: 10.240 |  Val. PPL: 27999.157\n",
            "Epoch: 88 | Time: 0m 15s\n",
            "\tTrain Loss: 0.587 | Train PPL:   1.799\n",
            "\t Val. Loss: 10.203 |  Val. PPL: 26983.375\n",
            "Epoch: 89 | Time: 0m 15s\n",
            "\tTrain Loss: 0.581 | Train PPL:   1.789\n",
            "\t Val. Loss: 10.235 |  Val. PPL: 27860.278\n",
            "Epoch: 90 | Time: 0m 15s\n",
            "\tTrain Loss: 0.577 | Train PPL:   1.781\n",
            "\t Val. Loss: 10.290 |  Val. PPL: 29449.086\n",
            "Epoch: 91 | Time: 0m 15s\n",
            "\tTrain Loss: 0.564 | Train PPL:   1.758\n",
            "\t Val. Loss: 10.308 |  Val. PPL: 29980.813\n",
            "Epoch: 92 | Time: 0m 15s\n",
            "\tTrain Loss: 0.553 | Train PPL:   1.738\n",
            "\t Val. Loss: 10.365 |  Val. PPL: 31743.378\n",
            "Epoch: 93 | Time: 0m 15s\n",
            "\tTrain Loss: 0.554 | Train PPL:   1.740\n",
            "\t Val. Loss: 10.395 |  Val. PPL: 32699.853\n",
            "Epoch: 94 | Time: 0m 15s\n",
            "\tTrain Loss: 0.551 | Train PPL:   1.736\n",
            "\t Val. Loss: 10.408 |  Val. PPL: 33112.313\n",
            "Epoch: 95 | Time: 0m 15s\n",
            "\tTrain Loss: 0.547 | Train PPL:   1.729\n",
            "\t Val. Loss: 10.391 |  Val. PPL: 32563.874\n",
            "Epoch: 96 | Time: 0m 15s\n",
            "\tTrain Loss: 0.542 | Train PPL:   1.720\n",
            "\t Val. Loss: 10.447 |  Val. PPL: 34429.716\n",
            "Epoch: 97 | Time: 0m 15s\n",
            "\tTrain Loss: 0.534 | Train PPL:   1.705\n",
            "\t Val. Loss: 10.488 |  Val. PPL: 35879.837\n",
            "Epoch: 98 | Time: 0m 15s\n",
            "\tTrain Loss: 0.529 | Train PPL:   1.698\n",
            "\t Val. Loss: 10.507 |  Val. PPL: 36584.834\n",
            "Epoch: 99 | Time: 0m 15s\n",
            "\tTrain Loss: 0.523 | Train PPL:   1.687\n",
            "\t Val. Loss: 10.627 |  Val. PPL: 41237.186\n",
            "Epoch: 100 | Time: 0m 15s\n",
            "\tTrain Loss: 0.525 | Train PPL:   1.690\n",
            "\t Val. Loss: 10.539 |  Val. PPL: 37741.482\n",
            "-----------<Training ended>-----------\n"
          ],
          "name": "stdout"
        }
      ]
    },
    {
      "cell_type": "markdown",
      "metadata": {
        "id": "dBkcxKWtpi8L",
        "colab_type": "text"
      },
      "source": [
        "We'll load the parameters (`state_dict`) that gave our model the best validation loss and run it the model on the test set."
      ]
    },
    {
      "cell_type": "code",
      "metadata": {
        "id": "kp39dKVVpi8N",
        "colab_type": "code",
        "colab": {
          "base_uri": "https://localhost:8080/",
          "height": 35
        },
        "outputId": "1e7ddac3-ddfa-4d58-b6e4-f2390bb0ce91"
      },
      "source": [
        "model.load_state_dict(torch.load('igen-transformer-model.pt'))\n",
        "\n",
        "test_loss = evaluate(model, test_iterator, criterion)\n",
        "\n",
        "print(f'| Test Loss: {test_loss:.3f} | Test PPL: {math.exp(test_loss):7.3f} |')"
      ],
      "execution_count": 30,
      "outputs": [
        {
          "output_type": "stream",
          "text": [
            "| Test Loss: 5.286 | Test PPL: 197.636 |\n"
          ],
          "name": "stdout"
        }
      ]
    },
    {
      "cell_type": "markdown",
      "metadata": {
        "id": "sDjMKmJqpi8Z",
        "colab_type": "text"
      },
      "source": [
        "In the following notebook we'll implement a model that achieves improved test perplexity, but only uses a single layer in the encoder and the decoder."
      ]
    },
    {
      "cell_type": "markdown",
      "metadata": {
        "id": "WOi7Io5ci5Tn",
        "colab_type": "text"
      },
      "source": [
        "## Inference\n",
        "\n",
        "Now we can get translations from our model with the `translate_sentence` function below.\n",
        "\n",
        "The steps taken are:\n",
        "- tokenize the source sentence if it has not been tokenized (is a string)\n",
        "- append the `<sos>` and `<eos>` tokens\n",
        "- numericalize the source sentence\n",
        "- convert it to a tensor and add a batch dimension\n",
        "- create the source sentence mask\n",
        "- feed the source sentence and mask into the encoder\n",
        "- create a list to hold the output sentence, initialized with an `<sos>` token\n",
        "- while we have not hit a maximum length\n",
        "  - convert the current output sentence prediction into a tensor with a batch dimension\n",
        "  - create a target sentence mask\n",
        "  - place the current output, encoder output and both masks into the decoder\n",
        "  - get next output token prediction from decoder along with attention\n",
        "  - add prediction to current output sentence prediction\n",
        "  - break if the prediction was an `<eos>` token\n",
        "- convert the output sentence from indexes to tokens\n",
        "- return the output sentence (with the `<sos>` token removed) and the attention from the last layer"
      ]
    },
    {
      "cell_type": "code",
      "metadata": {
        "id": "coewbb6zi9SI",
        "colab_type": "code",
        "colab": {}
      },
      "source": [
        "def translate_sentence(sentence, src_field, trg_field, model, device, max_len = 50):\n",
        "    \n",
        "    model.eval()\n",
        "        \n",
        "    if isinstance(sentence, str):\n",
        "        tokens = [token.text.lower() for token in tokenize(sentence)]\n",
        "    else:\n",
        "        tokens = [token.lower() for token in sentence]\n",
        "\n",
        "    tokens = [src_field.init_token] + tokens + [src_field.eos_token]\n",
        "        \n",
        "    src_indexes = [src_field.vocab.stoi[token] for token in tokens]\n",
        "\n",
        "    src_tensor = torch.LongTensor(src_indexes).unsqueeze(0).to(device)\n",
        "    \n",
        "    src_mask = model.make_src_mask(src_tensor)\n",
        "    \n",
        "    with torch.no_grad():\n",
        "        enc_src = model.encoder(src_tensor, src_mask)\n",
        "\n",
        "    trg_indexes = [trg_field.vocab.stoi[trg_field.init_token]]\n",
        "\n",
        "    for i in range(max_len):\n",
        "\n",
        "        trg_tensor = torch.LongTensor(trg_indexes).unsqueeze(0).to(device)\n",
        "\n",
        "        trg_mask = model.make_trg_mask(trg_tensor)\n",
        "        \n",
        "        with torch.no_grad():\n",
        "            output, attention = model.decoder(trg_tensor, enc_src, trg_mask, src_mask)\n",
        "        \n",
        "        pred_token = output.argmax(2)[:,-1].item()\n",
        "        \n",
        "        trg_indexes.append(pred_token)\n",
        "\n",
        "        if pred_token == trg_field.vocab.stoi[trg_field.eos_token]:\n",
        "            break\n",
        "    \n",
        "    trg_tokens = [trg_field.vocab.itos[i] for i in trg_indexes]\n",
        "    \n",
        "    return trg_tokens[1:], attention"
      ],
      "execution_count": 0,
      "outputs": []
    },
    {
      "cell_type": "markdown",
      "metadata": {
        "id": "3i4qe2lqkbLd",
        "colab_type": "text"
      },
      "source": [
        "We'll now define a function that displays the attention over the source sentence for each step of the decoding. As this model has 8 heads our model we can view the attention for each of the heads."
      ]
    },
    {
      "cell_type": "code",
      "metadata": {
        "id": "v8TgxtBykeWU",
        "colab_type": "code",
        "colab": {}
      },
      "source": [
        "def display_attention(sentence, translation, attention, n_heads = 8, n_rows = 4, n_cols = 2):\n",
        "    \n",
        "    assert n_rows * n_cols == n_heads\n",
        "    \n",
        "    fig = plt.figure(figsize=(15,25))\n",
        "    \n",
        "    for i in range(n_heads):\n",
        "        \n",
        "        ax = fig.add_subplot(n_rows, n_cols, i+1)\n",
        "        \n",
        "        _attention = attention.squeeze(0)[i].cpu().detach().numpy()\n",
        "\n",
        "        cax = ax.matshow(_attention, cmap='bone')\n",
        "\n",
        "        ax.tick_params(labelsize=12)\n",
        "        ax.set_xticklabels(['']+['<sos>']+[t.lower() for t in sentence]+['<eos>'], \n",
        "                           rotation=45)\n",
        "        ax.set_yticklabels(['']+translation)\n",
        "\n",
        "        ax.xaxis.set_major_locator(ticker.MultipleLocator(1))\n",
        "        ax.yaxis.set_major_locator(ticker.MultipleLocator(1))\n",
        "\n",
        "    plt.show()\n",
        "    plt.close()"
      ],
      "execution_count": 0,
      "outputs": []
    },
    {
      "cell_type": "markdown",
      "metadata": {
        "id": "kH65eJdakxd4",
        "colab_type": "text"
      },
      "source": [
        "First, we'll get an example from the training set."
      ]
    },
    {
      "cell_type": "code",
      "metadata": {
        "id": "A0H4DkAwk7Ck",
        "colab_type": "code",
        "colab": {
          "base_uri": "https://localhost:8080/",
          "height": 54
        },
        "outputId": "658a95ee-1cbd-4a86-fec9-29f11f321836"
      },
      "source": [
        "example_idx = 0\n",
        "\n",
        "src = vars(train_data.examples[example_idx])['src']\n",
        "trg = vars(train_data.examples[example_idx])['trg']\n",
        "\n",
        "print(f'src = {src}')\n",
        "print(f'trg = {trg}')"
      ],
      "execution_count": 42,
      "outputs": [
        {
          "output_type": "stream",
          "text": [
            "src = ['akụkọ', 'ndị', 'ga-amasị', 'gị:']\n",
            "trg = ['the', 'news', 'that', 'will', 'interest', 'you:']\n"
          ],
          "name": "stdout"
        }
      ]
    },
    {
      "cell_type": "markdown",
      "metadata": {
        "id": "I_-uB2HhlJ3w",
        "colab_type": "text"
      },
      "source": [
        "Perform the translation from the training set."
      ]
    },
    {
      "cell_type": "code",
      "metadata": {
        "id": "S5xQ28VVlUfw",
        "colab_type": "code",
        "colab": {
          "base_uri": "https://localhost:8080/",
          "height": 35
        },
        "outputId": "da0fd768-d762-4f24-ffb1-69147502e104"
      },
      "source": [
        "translation, attention = translate_sentence(src, SRC, TRG, model, device)\n",
        "\n",
        "print(f'predicted trg = {translation}')"
      ],
      "execution_count": 43,
      "outputs": [
        {
          "output_type": "stream",
          "text": [
            "predicted trg = ['the', 'news', 'that', 'will', 'interest', 'you:', '<eos>']\n"
          ],
          "name": "stdout"
        }
      ]
    },
    {
      "cell_type": "markdown",
      "metadata": {
        "id": "N2SDzBlElYoi",
        "colab_type": "text"
      },
      "source": [
        "Plot the attention heads"
      ]
    },
    {
      "cell_type": "code",
      "metadata": {
        "id": "QkbLTcMVlYDG",
        "colab_type": "code",
        "colab": {
          "base_uri": "https://localhost:8080/",
          "height": 1000
        },
        "outputId": "ec88cf33-f5ac-46e9-9adb-013201776e2d"
      },
      "source": [
        "display_attention(src, translation, attention)"
      ],
      "execution_count": 44,
      "outputs": [
        {
          "output_type": "display_data",
          "data": {
            "image/png": "[encoded data removed]",
            "text/plain": [
              "<Figure size 1080x1800 with 8 Axes>"
            ]
          },
          "metadata": {
            "tags": [],
            "needs_background": "light"
          }
        }
      ]
    },
    {
      "cell_type": "markdown",
      "metadata": {
        "id": "Rx_8cNcKmJ-j",
        "colab_type": "text"
      },
      "source": [
        "Translate an example from the validation data"
      ]
    },
    {
      "cell_type": "code",
      "metadata": {
        "id": "kT6A8HI7mhiB",
        "colab_type": "code",
        "colab": {
          "base_uri": "https://localhost:8080/",
          "height": 54
        },
        "outputId": "0e6cd92b-aa5c-4d9c-86e5-810c7297cb32"
      },
      "source": [
        "example_idx = 0\n",
        "\n",
        "src = vars(validate_data.examples[example_idx])['src']\n",
        "trg = vars(validate_data.examples[example_idx])['trg']\n",
        "\n",
        "print(f'src = {src}')\n",
        "print(f'trg = {trg}')"
      ],
      "execution_count": 45,
      "outputs": [
        {
          "output_type": "stream",
          "text": [
            "src = ['anyị', 'na-ewehie', 'ndozi', 'dịka', 'iwu']\n",
            "trg = ['we', 'are', 'confusing', 'regulation', 'with', 'policy.']\n"
          ],
          "name": "stdout"
        }
      ]
    },
    {
      "cell_type": "markdown",
      "metadata": {
        "id": "T2a8xFxxmuOx",
        "colab_type": "text"
      },
      "source": [
        "Again, visualize the attention heads"
      ]
    },
    {
      "cell_type": "code",
      "metadata": {
        "id": "YBkPwygJm_jN",
        "colab_type": "code",
        "colab": {
          "base_uri": "https://localhost:8080/",
          "height": 1000
        },
        "outputId": "d3e1c6cb-97ae-4c27-cc2c-645489bea7c6"
      },
      "source": [
        "display_attention(src, translation, attention)"
      ],
      "execution_count": 46,
      "outputs": [
        {
          "output_type": "display_data",
          "data": {
            "image/png": "[encoded data removed]",
            "text/plain": [
              "<Figure size 1080x1800 with 8 Axes>"
            ]
          },
          "metadata": {
            "tags": [],
            "needs_background": "light"
          }
        }
      ]
    },
    {
      "cell_type": "markdown",
      "metadata": {
        "id": "LwOmgAVxnKY9",
        "colab_type": "text"
      },
      "source": [
        "Translate an example from the test data"
      ]
    },
    {
      "cell_type": "code",
      "metadata": {
        "id": "J4g9klVlnZqQ",
        "colab_type": "code",
        "colab": {
          "base_uri": "https://localhost:8080/",
          "height": 72
        },
        "outputId": "3a6c77c3-f814-4d9b-add7-c18d7b356786"
      },
      "source": [
        "# example_idx = 300\n",
        "\n",
        "src = 'O bu dokita .'.split() #vars(test_data.examples[example_idx])['src']\n",
        "trg = 'He is a doctor .'.split() #vars(test_data.examples[example_idx])['trg']\n",
        "\n",
        "print(f'src = {src}')\n",
        "print(f'trg = {trg}')\n",
        "\n",
        "translation, attention = translate_sentence(src, SRC, TRG, model, device)\n",
        "\n",
        "print(f'predicted trg = {translation}')"
      ],
      "execution_count": 69,
      "outputs": [
        {
          "output_type": "stream",
          "text": [
            "src = ['O', 'bu', 'dokita', '.']\n",
            "trg = ['He', 'is', 'a', 'doctor', '.']\n",
            "predicted trg = ['he', 'was', '<unk>', '<eos>']\n"
          ],
          "name": "stdout"
        }
      ]
    },
    {
      "cell_type": "markdown",
      "metadata": {
        "id": "I5Nq82aEnlXx",
        "colab_type": "text"
      },
      "source": [
        "Show attention heads"
      ]
    },
    {
      "cell_type": "code",
      "metadata": {
        "id": "nVO3wkNSoG4e",
        "colab_type": "code",
        "colab": {
          "base_uri": "https://localhost:8080/",
          "height": 1000
        },
        "outputId": "6da74024-b17d-4e56-9ef8-e6580aa537f9"
      },
      "source": [
        "display_attention(src, translation, attention)"
      ],
      "execution_count": 70,
      "outputs": [
        {
          "output_type": "display_data",
          "data": {
            "image/png": "[encoded data removed]",
            "text/plain": [
              "<Figure size 1080x1800 with 8 Axes>"
            ]
          },
          "metadata": {
            "tags": [],
            "needs_background": "light"
          }
        }
      ]
    },
    {
      "cell_type": "markdown",
      "metadata": {
        "id": "_x63bjU2oSHg",
        "colab_type": "text"
      },
      "source": [
        "## BLEU\n",
        "\n",
        "Finally we calculate the BLEU score for the Transformer."
      ]
    },
    {
      "cell_type": "code",
      "metadata": {
        "id": "xtQdrqH6ocQ2",
        "colab_type": "code",
        "colab": {}
      },
      "source": [
        "import torchtext\n",
        "\n",
        "def calculate_bleu(data, src_field, trg_field, model, device, max_len = 50):\n",
        "    \n",
        "    trgs = []\n",
        "    pred_trgs = []\n",
        "    \n",
        "    for datum in data:\n",
        "        \n",
        "        src = vars(datum)['src']\n",
        "        trg = vars(datum)['trg']\n",
        "        \n",
        "        pred_trg, _ = translate_sentence(src, src_field, trg_field, model, device, max_len)\n",
        "        \n",
        "        #cut off <eos> token\n",
        "        pred_trg = pred_trg[:-1]\n",
        "        \n",
        "        pred_trgs.append(pred_trg)\n",
        "        trgs.append([trg])\n",
        "        \n",
        "    return bleu_score(pred_trgs, trgs)"
      ],
      "execution_count": 0,
      "outputs": []
    },
    {
      "cell_type": "code",
      "metadata": {
        "id": "GwRt3zoHok1e",
        "colab_type": "code",
        "colab": {
          "base_uri": "https://localhost:8080/",
          "height": 298
        },
        "outputId": "6dea2be0-99bd-40cc-b9be-64779c06965e"
      },
      "source": [
        "bleu_score = calculate_bleu(test_data, SRC, TRG, model, device)\n",
        "\n",
        "print(f'BLEU score = {bleu_score*100:.2f}')"
      ],
      "execution_count": 63,
      "outputs": [
        {
          "output_type": "error",
          "ename": "AttributeError",
          "evalue": "ignored",
          "traceback": [
            "\u001b[0;31m---------------------------------------------------------------------------\u001b[0m",
            "\u001b[0;31mAttributeError\u001b[0m                            Traceback (most recent call last)",
            "\u001b[0;32m<ipython-input-63-fdbcc13fd3c5>\u001b[0m in \u001b[0;36m<module>\u001b[0;34m()\u001b[0m\n\u001b[0;32m----> 1\u001b[0;31m \u001b[0mbleu_score\u001b[0m \u001b[0;34m=\u001b[0m \u001b[0mcalculate_bleu\u001b[0m\u001b[0;34m(\u001b[0m\u001b[0mtest_data\u001b[0m\u001b[0;34m,\u001b[0m \u001b[0mSRC\u001b[0m\u001b[0;34m,\u001b[0m \u001b[0mTRG\u001b[0m\u001b[0;34m,\u001b[0m \u001b[0mmodel\u001b[0m\u001b[0;34m,\u001b[0m \u001b[0mdevice\u001b[0m\u001b[0;34m)\u001b[0m\u001b[0;34m\u001b[0m\u001b[0;34m\u001b[0m\u001b[0m\n\u001b[0m\u001b[1;32m      2\u001b[0m \u001b[0;34m\u001b[0m\u001b[0m\n\u001b[1;32m      3\u001b[0m \u001b[0mprint\u001b[0m\u001b[0;34m(\u001b[0m\u001b[0;34mf'BLEU score = {bleu_score*100:.2f}'\u001b[0m\u001b[0;34m)\u001b[0m\u001b[0;34m\u001b[0m\u001b[0;34m\u001b[0m\u001b[0m\n",
            "\u001b[0;32m<ipython-input-62-bcdca5002b05>\u001b[0m in \u001b[0;36mcalculate_bleu\u001b[0;34m(data, src_field, trg_field, model, device, max_len)\u001b[0m\n\u001b[1;32m     19\u001b[0m         \u001b[0mtrgs\u001b[0m\u001b[0;34m.\u001b[0m\u001b[0mappend\u001b[0m\u001b[0;34m(\u001b[0m\u001b[0;34m[\u001b[0m\u001b[0mtrg\u001b[0m\u001b[0;34m]\u001b[0m\u001b[0;34m)\u001b[0m\u001b[0;34m\u001b[0m\u001b[0;34m\u001b[0m\u001b[0m\n\u001b[1;32m     20\u001b[0m \u001b[0;34m\u001b[0m\u001b[0m\n\u001b[0;32m---> 21\u001b[0;31m     \u001b[0;32mreturn\u001b[0m \u001b[0mtorchtext\u001b[0m\u001b[0;34m.\u001b[0m\u001b[0mdata\u001b[0m\u001b[0;34m.\u001b[0m\u001b[0mmetric\u001b[0m\u001b[0;34m.\u001b[0m\u001b[0mbleu_score\u001b[0m\u001b[0;34m(\u001b[0m\u001b[0mpred_trgs\u001b[0m\u001b[0;34m,\u001b[0m \u001b[0mtrgs\u001b[0m\u001b[0;34m)\u001b[0m\u001b[0;34m\u001b[0m\u001b[0;34m\u001b[0m\u001b[0m\n\u001b[0m",
            "\u001b[0;31mAttributeError\u001b[0m: module 'torchtext.data' has no attribute 'metric'"
          ]
        }
      ]
    }
  ]
}